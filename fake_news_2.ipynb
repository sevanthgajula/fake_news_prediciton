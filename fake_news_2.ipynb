{
 "cells": [
  {
   "cell_type": "markdown",
   "id": "d244613f",
   "metadata": {},
   "source": [
    "# Importing the dependencies"
   ]
  },
  {
   "cell_type": "code",
   "execution_count": 44,
   "id": "0fad872b",
   "metadata": {},
   "outputs": [],
   "source": [
    "import numpy as np \n",
    "import pandas as pd\n",
    "import re\n",
    "from nltk.corpus import stopwords\n",
    "from nltk.stem.porter import PorterStemmer\n",
    "from sklearn.feature_extraction.text import TfidfVectorizer\n",
    "from sklearn.model_selection import train_test_split\n",
    "from sklearn.metrics import accuracy_score\n",
    "from sklearn.preprocessing import LabelEncoder "
   ]
  },
  {
   "cell_type": "code",
   "execution_count": 45,
   "id": "fb80ea32",
   "metadata": {},
   "outputs": [
    {
     "name": "stderr",
     "output_type": "stream",
     "text": [
      "[nltk_data] Downloading package stopwords to\n",
      "[nltk_data]     C:\\Users\\sevan\\AppData\\Roaming\\nltk_data...\n",
      "[nltk_data]   Package stopwords is already up-to-date!\n"
     ]
    },
    {
     "data": {
      "text/plain": [
       "True"
      ]
     },
     "execution_count": 45,
     "metadata": {},
     "output_type": "execute_result"
    },
    {
     "name": "stderr",
     "output_type": "stream",
     "text": [
      "[nltk_data] Downloading package stopwords to\n",
      "[nltk_data]     C:\\Users\\sevan\\AppData\\Roaming\\nltk_data...\n",
      "[nltk_data]   Package stopwords is already up-to-date!\n"
     ]
    },
    {
     "data": {
      "text/plain": [
       "True"
      ]
     },
     "execution_count": 45,
     "metadata": {},
     "output_type": "execute_result"
    }
   ],
   "source": [
    "import nltk\n",
    "nltk.download('stopwords')"
   ]
  },
  {
   "cell_type": "code",
   "execution_count": 46,
   "id": "2db37691",
   "metadata": {
    "scrolled": true
   },
   "outputs": [
    {
     "name": "stdout",
     "output_type": "stream",
     "text": [
      "['i', 'me', 'my', 'myself', 'we', 'our', 'ours', 'ourselves', 'you', \"you're\", \"you've\", \"you'll\", \"you'd\", 'your', 'yours', 'yourself', 'yourselves', 'he', 'him', 'his', 'himself', 'she', \"she's\", 'her', 'hers', 'herself', 'it', \"it's\", 'its', 'itself', 'they', 'them', 'their', 'theirs', 'themselves', 'what', 'which', 'who', 'whom', 'this', 'that', \"that'll\", 'these', 'those', 'am', 'is', 'are', 'was', 'were', 'be', 'been', 'being', 'have', 'has', 'had', 'having', 'do', 'does', 'did', 'doing', 'a', 'an', 'the', 'and', 'but', 'if', 'or', 'because', 'as', 'until', 'while', 'of', 'at', 'by', 'for', 'with', 'about', 'against', 'between', 'into', 'through', 'during', 'before', 'after', 'above', 'below', 'to', 'from', 'up', 'down', 'in', 'out', 'on', 'off', 'over', 'under', 'again', 'further', 'then', 'once', 'here', 'there', 'when', 'where', 'why', 'how', 'all', 'any', 'both', 'each', 'few', 'more', 'most', 'other', 'some', 'such', 'no', 'nor', 'not', 'only', 'own', 'same', 'so', 'than', 'too', 'very', 's', 't', 'can', 'will', 'just', 'don', \"don't\", 'should', \"should've\", 'now', 'd', 'll', 'm', 'o', 're', 've', 'y', 'ain', 'aren', \"aren't\", 'couldn', \"couldn't\", 'didn', \"didn't\", 'doesn', \"doesn't\", 'hadn', \"hadn't\", 'hasn', \"hasn't\", 'haven', \"haven't\", 'isn', \"isn't\", 'ma', 'mightn', \"mightn't\", 'mustn', \"mustn't\", 'needn', \"needn't\", 'shan', \"shan't\", 'shouldn', \"shouldn't\", 'wasn', \"wasn't\", 'weren', \"weren't\", 'won', \"won't\", 'wouldn', \"wouldn't\"]\n",
      "['i', 'me', 'my', 'myself', 'we', 'our', 'ours', 'ourselves', 'you', \"you're\", \"you've\", \"you'll\", \"you'd\", 'your', 'yours', 'yourself', 'yourselves', 'he', 'him', 'his', 'himself', 'she', \"she's\", 'her', 'hers', 'herself', 'it', \"it's\", 'its', 'itself', 'they', 'them', 'their', 'theirs', 'themselves', 'what', 'which', 'who', 'whom', 'this', 'that', \"that'll\", 'these', 'those', 'am', 'is', 'are', 'was', 'were', 'be', 'been', 'being', 'have', 'has', 'had', 'having', 'do', 'does', 'did', 'doing', 'a', 'an', 'the', 'and', 'but', 'if', 'or', 'because', 'as', 'until', 'while', 'of', 'at', 'by', 'for', 'with', 'about', 'against', 'between', 'into', 'through', 'during', 'before', 'after', 'above', 'below', 'to', 'from', 'up', 'down', 'in', 'out', 'on', 'off', 'over', 'under', 'again', 'further', 'then', 'once', 'here', 'there', 'when', 'where', 'why', 'how', 'all', 'any', 'both', 'each', 'few', 'more', 'most', 'other', 'some', 'such', 'no', 'nor', 'not', 'only', 'own', 'same', 'so', 'than', 'too', 'very', 's', 't', 'can', 'will', 'just', 'don', \"don't\", 'should', \"should've\", 'now', 'd', 'll', 'm', 'o', 're', 've', 'y', 'ain', 'aren', \"aren't\", 'couldn', \"couldn't\", 'didn', \"didn't\", 'doesn', \"doesn't\", 'hadn', \"hadn't\", 'hasn', \"hasn't\", 'haven', \"haven't\", 'isn', \"isn't\", 'ma', 'mightn', \"mightn't\", 'mustn', \"mustn't\", 'needn', \"needn't\", 'shan', \"shan't\", 'shouldn', \"shouldn't\", 'wasn', \"wasn't\", 'weren', \"weren't\", 'won', \"won't\", 'wouldn', \"wouldn't\"]\n"
     ]
    }
   ],
   "source": [
    "#printing the stop words to be removed\n",
    "print(stopwords.words('english'))"
   ]
  },
  {
   "cell_type": "code",
   "execution_count": null,
   "id": "b0eb9ed7",
   "metadata": {},
   "outputs": [],
   "source": []
  },
  {
   "cell_type": "markdown",
   "id": "e2bca0f9",
   "metadata": {},
   "source": [
    "# Analysing the dataset"
   ]
  },
  {
   "cell_type": "code",
   "execution_count": 47,
   "id": "3600ffd0",
   "metadata": {},
   "outputs": [],
   "source": [
    "#loading the datasets\n",
    "news_dataset= pd.read_csv(r\"C:\\Users\\sevan\\Downloads\\fake_or_real_news.csv\")"
   ]
  },
  {
   "cell_type": "code",
   "execution_count": 48,
   "id": "13373d97",
   "metadata": {},
   "outputs": [
    {
     "data": {
      "text/plain": [
       "(7818, 6)"
      ]
     },
     "execution_count": 48,
     "metadata": {},
     "output_type": "execute_result"
    },
    {
     "data": {
      "text/plain": [
       "(7818, 6)"
      ]
     },
     "execution_count": 48,
     "metadata": {},
     "output_type": "execute_result"
    }
   ],
   "source": [
    "#getting the rows and columns of the dataset\n",
    "news_dataset.shape"
   ]
  },
  {
   "cell_type": "code",
   "execution_count": 49,
   "id": "6d85ff71",
   "metadata": {},
   "outputs": [
    {
     "data": {
      "text/html": [
       "<div>\n",
       "<style scoped>\n",
       "    .dataframe tbody tr th:only-of-type {\n",
       "        vertical-align: middle;\n",
       "    }\n",
       "\n",
       "    .dataframe tbody tr th {\n",
       "        vertical-align: top;\n",
       "    }\n",
       "\n",
       "    .dataframe thead th {\n",
       "        text-align: right;\n",
       "    }\n",
       "</style>\n",
       "<table border=\"1\" class=\"dataframe\">\n",
       "  <thead>\n",
       "    <tr style=\"text-align: right;\">\n",
       "      <th></th>\n",
       "      <th>Unnamed: 0</th>\n",
       "      <th>title</th>\n",
       "      <th>text</th>\n",
       "      <th>label</th>\n",
       "      <th>Unnamed: 4</th>\n",
       "      <th>Unnamed: 5</th>\n",
       "    </tr>\n",
       "  </thead>\n",
       "  <tbody>\n",
       "    <tr>\n",
       "      <th>0</th>\n",
       "      <td>8476</td>\n",
       "      <td>You Can Smell Hillary’s Fear</td>\n",
       "      <td>Daniel Greenfield, a Shillman Journalism Fello...</td>\n",
       "      <td>FAKE</td>\n",
       "      <td>NaN</td>\n",
       "      <td>NaN</td>\n",
       "    </tr>\n",
       "    <tr>\n",
       "      <th>1</th>\n",
       "      <td>10294</td>\n",
       "      <td>Watch The Exact Moment Paul Ryan Committed Pol...</td>\n",
       "      <td>Google Pinterest Digg Linkedin Reddit Stumbleu...</td>\n",
       "      <td>FAKE</td>\n",
       "      <td>NaN</td>\n",
       "      <td>NaN</td>\n",
       "    </tr>\n",
       "    <tr>\n",
       "      <th>2</th>\n",
       "      <td>3608</td>\n",
       "      <td>Kerry to go to Paris in gesture of sympathy</td>\n",
       "      <td>U.S. Secretary of State John F. Kerry said Mon...</td>\n",
       "      <td>REAL</td>\n",
       "      <td>NaN</td>\n",
       "      <td>NaN</td>\n",
       "    </tr>\n",
       "    <tr>\n",
       "      <th>3</th>\n",
       "      <td>10142</td>\n",
       "      <td>Bernie supporters on Twitter erupt in anger ag...</td>\n",
       "      <td>— Kaydee King (@KaydeeKing) November 9, 2016 T...</td>\n",
       "      <td>FAKE</td>\n",
       "      <td>NaN</td>\n",
       "      <td>NaN</td>\n",
       "    </tr>\n",
       "    <tr>\n",
       "      <th>4</th>\n",
       "      <td>875</td>\n",
       "      <td>The Battle of New York: Why This Primary Matters</td>\n",
       "      <td>It's primary day in New York and front-runners...</td>\n",
       "      <td>REAL</td>\n",
       "      <td>NaN</td>\n",
       "      <td>NaN</td>\n",
       "    </tr>\n",
       "  </tbody>\n",
       "</table>\n",
       "</div>"
      ],
      "text/plain": [
       "  Unnamed: 0                                              title  \\\n",
       "0       8476                       You Can Smell Hillary’s Fear   \n",
       "1      10294  Watch The Exact Moment Paul Ryan Committed Pol...   \n",
       "2       3608        Kerry to go to Paris in gesture of sympathy   \n",
       "3      10142  Bernie supporters on Twitter erupt in anger ag...   \n",
       "4        875   The Battle of New York: Why This Primary Matters   \n",
       "\n",
       "                                                text label Unnamed: 4  \\\n",
       "0  Daniel Greenfield, a Shillman Journalism Fello...  FAKE        NaN   \n",
       "1  Google Pinterest Digg Linkedin Reddit Stumbleu...  FAKE        NaN   \n",
       "2  U.S. Secretary of State John F. Kerry said Mon...  REAL        NaN   \n",
       "3  — Kaydee King (@KaydeeKing) November 9, 2016 T...  FAKE        NaN   \n",
       "4  It's primary day in New York and front-runners...  REAL        NaN   \n",
       "\n",
       "  Unnamed: 5  \n",
       "0        NaN  \n",
       "1        NaN  \n",
       "2        NaN  \n",
       "3        NaN  \n",
       "4        NaN  "
      ]
     },
     "execution_count": 49,
     "metadata": {},
     "output_type": "execute_result"
    },
    {
     "data": {
      "text/html": [
       "<div>\n",
       "<style scoped>\n",
       "    .dataframe tbody tr th:only-of-type {\n",
       "        vertical-align: middle;\n",
       "    }\n",
       "\n",
       "    .dataframe tbody tr th {\n",
       "        vertical-align: top;\n",
       "    }\n",
       "\n",
       "    .dataframe thead th {\n",
       "        text-align: right;\n",
       "    }\n",
       "</style>\n",
       "<table border=\"1\" class=\"dataframe\">\n",
       "  <thead>\n",
       "    <tr style=\"text-align: right;\">\n",
       "      <th></th>\n",
       "      <th>Unnamed: 0</th>\n",
       "      <th>title</th>\n",
       "      <th>text</th>\n",
       "      <th>label</th>\n",
       "      <th>Unnamed: 4</th>\n",
       "      <th>Unnamed: 5</th>\n",
       "    </tr>\n",
       "  </thead>\n",
       "  <tbody>\n",
       "    <tr>\n",
       "      <th>0</th>\n",
       "      <td>8476</td>\n",
       "      <td>You Can Smell Hillary’s Fear</td>\n",
       "      <td>Daniel Greenfield, a Shillman Journalism Fello...</td>\n",
       "      <td>FAKE</td>\n",
       "      <td>NaN</td>\n",
       "      <td>NaN</td>\n",
       "    </tr>\n",
       "    <tr>\n",
       "      <th>1</th>\n",
       "      <td>10294</td>\n",
       "      <td>Watch The Exact Moment Paul Ryan Committed Pol...</td>\n",
       "      <td>Google Pinterest Digg Linkedin Reddit Stumbleu...</td>\n",
       "      <td>FAKE</td>\n",
       "      <td>NaN</td>\n",
       "      <td>NaN</td>\n",
       "    </tr>\n",
       "    <tr>\n",
       "      <th>2</th>\n",
       "      <td>3608</td>\n",
       "      <td>Kerry to go to Paris in gesture of sympathy</td>\n",
       "      <td>U.S. Secretary of State John F. Kerry said Mon...</td>\n",
       "      <td>REAL</td>\n",
       "      <td>NaN</td>\n",
       "      <td>NaN</td>\n",
       "    </tr>\n",
       "    <tr>\n",
       "      <th>3</th>\n",
       "      <td>10142</td>\n",
       "      <td>Bernie supporters on Twitter erupt in anger ag...</td>\n",
       "      <td>— Kaydee King (@KaydeeKing) November 9, 2016 T...</td>\n",
       "      <td>FAKE</td>\n",
       "      <td>NaN</td>\n",
       "      <td>NaN</td>\n",
       "    </tr>\n",
       "    <tr>\n",
       "      <th>4</th>\n",
       "      <td>875</td>\n",
       "      <td>The Battle of New York: Why This Primary Matters</td>\n",
       "      <td>It's primary day in New York and front-runners...</td>\n",
       "      <td>REAL</td>\n",
       "      <td>NaN</td>\n",
       "      <td>NaN</td>\n",
       "    </tr>\n",
       "  </tbody>\n",
       "</table>\n",
       "</div>"
      ],
      "text/plain": [
       "  Unnamed: 0                                              title  \\\n",
       "0       8476                       You Can Smell Hillary’s Fear   \n",
       "1      10294  Watch The Exact Moment Paul Ryan Committed Pol...   \n",
       "2       3608        Kerry to go to Paris in gesture of sympathy   \n",
       "3      10142  Bernie supporters on Twitter erupt in anger ag...   \n",
       "4        875   The Battle of New York: Why This Primary Matters   \n",
       "\n",
       "                                                text label Unnamed: 4  \\\n",
       "0  Daniel Greenfield, a Shillman Journalism Fello...  FAKE        NaN   \n",
       "1  Google Pinterest Digg Linkedin Reddit Stumbleu...  FAKE        NaN   \n",
       "2  U.S. Secretary of State John F. Kerry said Mon...  REAL        NaN   \n",
       "3  — Kaydee King (@KaydeeKing) November 9, 2016 T...  FAKE        NaN   \n",
       "4  It's primary day in New York and front-runners...  REAL        NaN   \n",
       "\n",
       "  Unnamed: 5  \n",
       "0        NaN  \n",
       "1        NaN  \n",
       "2        NaN  \n",
       "3        NaN  \n",
       "4        NaN  "
      ]
     },
     "execution_count": 49,
     "metadata": {},
     "output_type": "execute_result"
    }
   ],
   "source": [
    "#printing the first 5 rows\n",
    "news_dataset.head()"
   ]
  },
  {
   "cell_type": "code",
   "execution_count": 50,
   "id": "02154986",
   "metadata": {},
   "outputs": [
    {
     "data": {
      "text/plain": [
       "Unnamed: 0     242\n",
       "title          633\n",
       "text           889\n",
       "label         1063\n",
       "Unnamed: 4    7817\n",
       "Unnamed: 5    7817\n",
       "dtype: int64"
      ]
     },
     "execution_count": 50,
     "metadata": {},
     "output_type": "execute_result"
    },
    {
     "data": {
      "text/plain": [
       "Unnamed: 0     242\n",
       "title          633\n",
       "text           889\n",
       "label         1063\n",
       "Unnamed: 4    7817\n",
       "Unnamed: 5    7817\n",
       "dtype: int64"
      ]
     },
     "execution_count": 50,
     "metadata": {},
     "output_type": "execute_result"
    }
   ],
   "source": [
    "#counting null values\n",
    "news_dataset.isnull().sum()"
   ]
  },
  {
   "cell_type": "code",
   "execution_count": 51,
   "id": "768b937c",
   "metadata": {},
   "outputs": [],
   "source": [
    "#replacing the null values with empty string\n",
    "news_dataset=news_dataset.fillna('')"
   ]
  },
  {
   "cell_type": "code",
   "execution_count": 52,
   "id": "8d04f459",
   "metadata": {},
   "outputs": [
    {
     "data": {
      "text/plain": [
       "Unnamed: 0    0\n",
       "title         0\n",
       "text          0\n",
       "label         0\n",
       "Unnamed: 4    0\n",
       "Unnamed: 5    0\n",
       "dtype: int64"
      ]
     },
     "execution_count": 52,
     "metadata": {},
     "output_type": "execute_result"
    },
    {
     "data": {
      "text/plain": [
       "Unnamed: 0    0\n",
       "title         0\n",
       "text          0\n",
       "label         0\n",
       "Unnamed: 4    0\n",
       "Unnamed: 5    0\n",
       "dtype: int64"
      ]
     },
     "execution_count": 52,
     "metadata": {},
     "output_type": "execute_result"
    }
   ],
   "source": [
    "news_dataset.isnull().sum()"
   ]
  },
  {
   "cell_type": "code",
   "execution_count": 53,
   "id": "e0cc2a34",
   "metadata": {},
   "outputs": [],
   "source": [
    "#merging the title and text\n",
    "news_dataset['content']=news_dataset['title']+''+news_dataset['text']+''+news_dataset['label']"
   ]
  },
  {
   "cell_type": "code",
   "execution_count": 54,
   "id": "6e40437b",
   "metadata": {},
   "outputs": [
    {
     "data": {
      "text/plain": [
       "0       You Can Smell Hillary’s FearDaniel Greenfield,...\n",
       "1       Watch The Exact Moment Paul Ryan Committed Pol...\n",
       "2       Kerry to go to Paris in gesture of sympathyU.S...\n",
       "3       Bernie supporters on Twitter erupt in anger ag...\n",
       "4       The Battle of New York: Why This Primary Matte...\n",
       "                              ...                        \n",
       "7813    State Department says it can't find emails fro...\n",
       "7814    The ‘P’ in PBS Should Stand for ‘Plutocratic’ ...\n",
       "7815    Anti-Trump Protesters Are Tools of the Oligarc...\n",
       "7816    In Ethiopia, Obama seeks progress on peace, se...\n",
       "7817    Jeb Bush Is Suddenly Attacking Trump. Here's W...\n",
       "Name: content, Length: 7818, dtype: object"
      ]
     },
     "metadata": {},
     "output_type": "display_data"
    },
    {
     "data": {
      "text/plain": [
       "0       You Can Smell Hillary’s FearDaniel Greenfield,...\n",
       "1       Watch The Exact Moment Paul Ryan Committed Pol...\n",
       "2       Kerry to go to Paris in gesture of sympathyU.S...\n",
       "3       Bernie supporters on Twitter erupt in anger ag...\n",
       "4       The Battle of New York: Why This Primary Matte...\n",
       "                              ...                        \n",
       "7813    State Department says it can't find emails fro...\n",
       "7814    The ‘P’ in PBS Should Stand for ‘Plutocratic’ ...\n",
       "7815    Anti-Trump Protesters Are Tools of the Oligarc...\n",
       "7816    In Ethiopia, Obama seeks progress on peace, se...\n",
       "7817    Jeb Bush Is Suddenly Attacking Trump. Here's W...\n",
       "Name: content, Length: 7818, dtype: object"
      ]
     },
     "metadata": {},
     "output_type": "display_data"
    }
   ],
   "source": [
    "display(news_dataset['content'])"
   ]
  },
  {
   "cell_type": "code",
   "execution_count": 55,
   "id": "dcff2d04",
   "metadata": {},
   "outputs": [],
   "source": [
    "#deleting the unwanted columns\n",
    "del news_dataset['Unnamed: 4']\n",
    "del news_dataset['Unnamed: 5']\n",
    "del news_dataset['title']\n"
   ]
  },
  {
   "cell_type": "code",
   "execution_count": 56,
   "id": "9350079b",
   "metadata": {},
   "outputs": [],
   "source": [
    "# separting the data and label\n",
    "X=news_dataset.drop(columns=('label'),axis=1)\n",
    "Y=news_dataset['label']"
   ]
  },
  {
   "cell_type": "code",
   "execution_count": 57,
   "id": "64967cae",
   "metadata": {},
   "outputs": [
    {
     "name": "stdout",
     "output_type": "stream",
     "text": [
      "     Unnamed: 0                                               text  \\\n",
      "0          8476  Daniel Greenfield, a Shillman Journalism Fello...   \n",
      "1         10294  Google Pinterest Digg Linkedin Reddit Stumbleu...   \n",
      "2          3608  U.S. Secretary of State John F. Kerry said Mon...   \n",
      "3         10142  — Kaydee King (@KaydeeKing) November 9, 2016 T...   \n",
      "4           875  It's primary day in New York and front-runners...   \n",
      "...         ...                                                ...   \n",
      "7813       4490  The State Department told the Republican Natio...   \n",
      "7814       8062  The ‘P’ in PBS Should Stand for ‘Plutocratic’ ...   \n",
      "7815       8622   Anti-Trump Protesters Are Tools of the Oligar...   \n",
      "7816       4021  ADDIS ABABA, Ethiopia —President Obama convene...   \n",
      "7817       4330  Jeb Bush Is Suddenly Attacking Trump. Here's W...   \n",
      "\n",
      "                                                content  \n",
      "0     You Can Smell Hillary’s FearDaniel Greenfield,...  \n",
      "1     Watch The Exact Moment Paul Ryan Committed Pol...  \n",
      "2     Kerry to go to Paris in gesture of sympathyU.S...  \n",
      "3     Bernie supporters on Twitter erupt in anger ag...  \n",
      "4     The Battle of New York: Why This Primary Matte...  \n",
      "...                                                 ...  \n",
      "7813  State Department says it can't find emails fro...  \n",
      "7814  The ‘P’ in PBS Should Stand for ‘Plutocratic’ ...  \n",
      "7815  Anti-Trump Protesters Are Tools of the Oligarc...  \n",
      "7816  In Ethiopia, Obama seeks progress on peace, se...  \n",
      "7817  Jeb Bush Is Suddenly Attacking Trump. Here's W...  \n",
      "\n",
      "[7818 rows x 3 columns]\n",
      "0       FAKE\n",
      "1       FAKE\n",
      "2       REAL\n",
      "3       FAKE\n",
      "4       REAL\n",
      "        ... \n",
      "7813    REAL\n",
      "7814    FAKE\n",
      "7815    FAKE\n",
      "7816    REAL\n",
      "7817    REAL\n",
      "Name: label, Length: 7818, dtype: object\n",
      "     Unnamed: 0                                               text  \\\n",
      "0          8476  Daniel Greenfield, a Shillman Journalism Fello...   \n",
      "1         10294  Google Pinterest Digg Linkedin Reddit Stumbleu...   \n",
      "2          3608  U.S. Secretary of State John F. Kerry said Mon...   \n",
      "3         10142  — Kaydee King (@KaydeeKing) November 9, 2016 T...   \n",
      "4           875  It's primary day in New York and front-runners...   \n",
      "...         ...                                                ...   \n",
      "7813       4490  The State Department told the Republican Natio...   \n",
      "7814       8062  The ‘P’ in PBS Should Stand for ‘Plutocratic’ ...   \n",
      "7815       8622   Anti-Trump Protesters Are Tools of the Oligar...   \n",
      "7816       4021  ADDIS ABABA, Ethiopia —President Obama convene...   \n",
      "7817       4330  Jeb Bush Is Suddenly Attacking Trump. Here's W...   \n",
      "\n",
      "                                                content  \n",
      "0     You Can Smell Hillary’s FearDaniel Greenfield,...  \n",
      "1     Watch The Exact Moment Paul Ryan Committed Pol...  \n",
      "2     Kerry to go to Paris in gesture of sympathyU.S...  \n",
      "3     Bernie supporters on Twitter erupt in anger ag...  \n",
      "4     The Battle of New York: Why This Primary Matte...  \n",
      "...                                                 ...  \n",
      "7813  State Department says it can't find emails fro...  \n",
      "7814  The ‘P’ in PBS Should Stand for ‘Plutocratic’ ...  \n",
      "7815  Anti-Trump Protesters Are Tools of the Oligarc...  \n",
      "7816  In Ethiopia, Obama seeks progress on peace, se...  \n",
      "7817  Jeb Bush Is Suddenly Attacking Trump. Here's W...  \n",
      "\n",
      "[7818 rows x 3 columns]\n",
      "0       FAKE\n",
      "1       FAKE\n",
      "2       REAL\n",
      "3       FAKE\n",
      "4       REAL\n",
      "        ... \n",
      "7813    REAL\n",
      "7814    FAKE\n",
      "7815    FAKE\n",
      "7816    REAL\n",
      "7817    REAL\n",
      "Name: label, Length: 7818, dtype: object\n"
     ]
    }
   ],
   "source": [
    "print(X)\n",
    "print(Y)"
   ]
  },
  {
   "cell_type": "code",
   "execution_count": 58,
   "id": "2628bc4c",
   "metadata": {
    "scrolled": true
   },
   "outputs": [
    {
     "data": {
      "text/html": [
       "<div>\n",
       "<style scoped>\n",
       "    .dataframe tbody tr th:only-of-type {\n",
       "        vertical-align: middle;\n",
       "    }\n",
       "\n",
       "    .dataframe tbody tr th {\n",
       "        vertical-align: top;\n",
       "    }\n",
       "\n",
       "    .dataframe thead th {\n",
       "        text-align: right;\n",
       "    }\n",
       "</style>\n",
       "<table border=\"1\" class=\"dataframe\">\n",
       "  <thead>\n",
       "    <tr style=\"text-align: right;\">\n",
       "      <th></th>\n",
       "      <th>Unnamed: 0</th>\n",
       "      <th>text</th>\n",
       "      <th>label</th>\n",
       "      <th>content</th>\n",
       "    </tr>\n",
       "  </thead>\n",
       "  <tbody>\n",
       "    <tr>\n",
       "      <th>0</th>\n",
       "      <td>8476</td>\n",
       "      <td>Daniel Greenfield, a Shillman Journalism Fello...</td>\n",
       "      <td>FAKE</td>\n",
       "      <td>You Can Smell Hillary’s FearDaniel Greenfield,...</td>\n",
       "    </tr>\n",
       "    <tr>\n",
       "      <th>1</th>\n",
       "      <td>10294</td>\n",
       "      <td>Google Pinterest Digg Linkedin Reddit Stumbleu...</td>\n",
       "      <td>FAKE</td>\n",
       "      <td>Watch The Exact Moment Paul Ryan Committed Pol...</td>\n",
       "    </tr>\n",
       "    <tr>\n",
       "      <th>2</th>\n",
       "      <td>3608</td>\n",
       "      <td>U.S. Secretary of State John F. Kerry said Mon...</td>\n",
       "      <td>REAL</td>\n",
       "      <td>Kerry to go to Paris in gesture of sympathyU.S...</td>\n",
       "    </tr>\n",
       "    <tr>\n",
       "      <th>3</th>\n",
       "      <td>10142</td>\n",
       "      <td>— Kaydee King (@KaydeeKing) November 9, 2016 T...</td>\n",
       "      <td>FAKE</td>\n",
       "      <td>Bernie supporters on Twitter erupt in anger ag...</td>\n",
       "    </tr>\n",
       "    <tr>\n",
       "      <th>4</th>\n",
       "      <td>875</td>\n",
       "      <td>It's primary day in New York and front-runners...</td>\n",
       "      <td>REAL</td>\n",
       "      <td>The Battle of New York: Why This Primary Matte...</td>\n",
       "    </tr>\n",
       "  </tbody>\n",
       "</table>\n",
       "</div>"
      ],
      "text/plain": [
       "  Unnamed: 0                                               text label  \\\n",
       "0       8476  Daniel Greenfield, a Shillman Journalism Fello...  FAKE   \n",
       "1      10294  Google Pinterest Digg Linkedin Reddit Stumbleu...  FAKE   \n",
       "2       3608  U.S. Secretary of State John F. Kerry said Mon...  REAL   \n",
       "3      10142  — Kaydee King (@KaydeeKing) November 9, 2016 T...  FAKE   \n",
       "4        875  It's primary day in New York and front-runners...  REAL   \n",
       "\n",
       "                                             content  \n",
       "0  You Can Smell Hillary’s FearDaniel Greenfield,...  \n",
       "1  Watch The Exact Moment Paul Ryan Committed Pol...  \n",
       "2  Kerry to go to Paris in gesture of sympathyU.S...  \n",
       "3  Bernie supporters on Twitter erupt in anger ag...  \n",
       "4  The Battle of New York: Why This Primary Matte...  "
      ]
     },
     "execution_count": 58,
     "metadata": {},
     "output_type": "execute_result"
    },
    {
     "data": {
      "text/html": [
       "<div>\n",
       "<style scoped>\n",
       "    .dataframe tbody tr th:only-of-type {\n",
       "        vertical-align: middle;\n",
       "    }\n",
       "\n",
       "    .dataframe tbody tr th {\n",
       "        vertical-align: top;\n",
       "    }\n",
       "\n",
       "    .dataframe thead th {\n",
       "        text-align: right;\n",
       "    }\n",
       "</style>\n",
       "<table border=\"1\" class=\"dataframe\">\n",
       "  <thead>\n",
       "    <tr style=\"text-align: right;\">\n",
       "      <th></th>\n",
       "      <th>Unnamed: 0</th>\n",
       "      <th>text</th>\n",
       "      <th>label</th>\n",
       "      <th>content</th>\n",
       "    </tr>\n",
       "  </thead>\n",
       "  <tbody>\n",
       "    <tr>\n",
       "      <th>0</th>\n",
       "      <td>8476</td>\n",
       "      <td>Daniel Greenfield, a Shillman Journalism Fello...</td>\n",
       "      <td>FAKE</td>\n",
       "      <td>You Can Smell Hillary’s FearDaniel Greenfield,...</td>\n",
       "    </tr>\n",
       "    <tr>\n",
       "      <th>1</th>\n",
       "      <td>10294</td>\n",
       "      <td>Google Pinterest Digg Linkedin Reddit Stumbleu...</td>\n",
       "      <td>FAKE</td>\n",
       "      <td>Watch The Exact Moment Paul Ryan Committed Pol...</td>\n",
       "    </tr>\n",
       "    <tr>\n",
       "      <th>2</th>\n",
       "      <td>3608</td>\n",
       "      <td>U.S. Secretary of State John F. Kerry said Mon...</td>\n",
       "      <td>REAL</td>\n",
       "      <td>Kerry to go to Paris in gesture of sympathyU.S...</td>\n",
       "    </tr>\n",
       "    <tr>\n",
       "      <th>3</th>\n",
       "      <td>10142</td>\n",
       "      <td>— Kaydee King (@KaydeeKing) November 9, 2016 T...</td>\n",
       "      <td>FAKE</td>\n",
       "      <td>Bernie supporters on Twitter erupt in anger ag...</td>\n",
       "    </tr>\n",
       "    <tr>\n",
       "      <th>4</th>\n",
       "      <td>875</td>\n",
       "      <td>It's primary day in New York and front-runners...</td>\n",
       "      <td>REAL</td>\n",
       "      <td>The Battle of New York: Why This Primary Matte...</td>\n",
       "    </tr>\n",
       "  </tbody>\n",
       "</table>\n",
       "</div>"
      ],
      "text/plain": [
       "  Unnamed: 0                                               text label  \\\n",
       "0       8476  Daniel Greenfield, a Shillman Journalism Fello...  FAKE   \n",
       "1      10294  Google Pinterest Digg Linkedin Reddit Stumbleu...  FAKE   \n",
       "2       3608  U.S. Secretary of State John F. Kerry said Mon...  REAL   \n",
       "3      10142  — Kaydee King (@KaydeeKing) November 9, 2016 T...  FAKE   \n",
       "4        875  It's primary day in New York and front-runners...  REAL   \n",
       "\n",
       "                                             content  \n",
       "0  You Can Smell Hillary’s FearDaniel Greenfield,...  \n",
       "1  Watch The Exact Moment Paul Ryan Committed Pol...  \n",
       "2  Kerry to go to Paris in gesture of sympathyU.S...  \n",
       "3  Bernie supporters on Twitter erupt in anger ag...  \n",
       "4  The Battle of New York: Why This Primary Matte...  "
      ]
     },
     "execution_count": 58,
     "metadata": {},
     "output_type": "execute_result"
    }
   ],
   "source": [
    "#first 5 rows of revised dataset\n",
    "news_dataset.head()"
   ]
  },
  {
   "cell_type": "code",
   "execution_count": 59,
   "id": "03d73b95",
   "metadata": {},
   "outputs": [
    {
     "data": {
      "text/plain": [
       "250"
      ]
     },
     "execution_count": 59,
     "metadata": {},
     "output_type": "execute_result"
    },
    {
     "data": {
      "text/plain": [
       "250"
      ]
     },
     "execution_count": 59,
     "metadata": {},
     "output_type": "execute_result"
    }
   ],
   "source": [
    "#checking for duplicate values in dataset\n",
    "news_dataset.duplicated().sum()"
   ]
  },
  {
   "cell_type": "code",
   "execution_count": 60,
   "id": "1121ce3b",
   "metadata": {},
   "outputs": [],
   "source": [
    "#sorting the duplicate values to one place\n",
    "news_dataset.sort_values(\"text\", inplace = True)"
   ]
  },
  {
   "cell_type": "code",
   "execution_count": 61,
   "id": "d802a363",
   "metadata": {},
   "outputs": [],
   "source": [
    "#deleting the duplicate values\n",
    "news_dataset.drop_duplicates(subset =\"text\",keep = False, inplace = True)"
   ]
  },
  {
   "cell_type": "code",
   "execution_count": 62,
   "id": "1e2de838",
   "metadata": {},
   "outputs": [
    {
     "data": {
      "text/plain": [
       "0"
      ]
     },
     "execution_count": 62,
     "metadata": {},
     "output_type": "execute_result"
    },
    {
     "data": {
      "text/plain": [
       "0"
      ]
     },
     "execution_count": 62,
     "metadata": {},
     "output_type": "execute_result"
    }
   ],
   "source": [
    "news_dataset.duplicated().sum()"
   ]
  },
  {
   "cell_type": "markdown",
   "id": "20f3ea07",
   "metadata": {},
   "source": [
    "# Label Encoding"
   ]
  },
  {
   "cell_type": "code",
   "execution_count": 63,
   "id": "bf455b37",
   "metadata": {},
   "outputs": [
    {
     "data": {
      "text/html": [
       "<div>\n",
       "<style scoped>\n",
       "    .dataframe tbody tr th:only-of-type {\n",
       "        vertical-align: middle;\n",
       "    }\n",
       "\n",
       "    .dataframe tbody tr th {\n",
       "        vertical-align: top;\n",
       "    }\n",
       "\n",
       "    .dataframe thead th {\n",
       "        text-align: right;\n",
       "    }\n",
       "</style>\n",
       "<table border=\"1\" class=\"dataframe\">\n",
       "  <thead>\n",
       "    <tr style=\"text-align: right;\">\n",
       "      <th></th>\n",
       "      <th>Unnamed: 0</th>\n",
       "      <th>text</th>\n",
       "      <th>label</th>\n",
       "      <th>content</th>\n",
       "    </tr>\n",
       "  </thead>\n",
       "  <tbody>\n",
       "    <tr>\n",
       "      <th>6728</th>\n",
       "      <td>9220</td>\n",
       "      <td>\\n\\n \\nIf Clinton is elected, Obama will hand ...</td>\n",
       "      <td>420</td>\n",
       "      <td>Hillary Is 70 Days Away From Controlling All F...</td>\n",
       "    </tr>\n",
       "    <tr>\n",
       "      <th>609</th>\n",
       "      <td>5438</td>\n",
       "      <td>\\n\\n \\nIn the past 24 hours, some very stunnin...</td>\n",
       "      <td>420</td>\n",
       "      <td>Just Another Day In the Life of the Clinton Cr...</td>\n",
       "    </tr>\n",
       "    <tr>\n",
       "      <th>665</th>\n",
       "      <td>7811</td>\n",
       "      <td>\\n\\n \\nUPDATE: HILLARY CLINTON IS AGAIN UNDER ...</td>\n",
       "      <td>420</td>\n",
       "      <td>14 Days to Do 14 Things, If Hillary’s Indicted...</td>\n",
       "    </tr>\n",
       "    <tr>\n",
       "      <th>407</th>\n",
       "      <td>2840</td>\n",
       "      <td>\\n\\n Another deadline lapsed Thursday in the s...</td>\n",
       "      <td>421</td>\n",
       "      <td>Iran: Why the best outcome now is to keep nego...</td>\n",
       "    </tr>\n",
       "    <tr>\n",
       "      <th>1862</th>\n",
       "      <td>10318</td>\n",
       "      <td>\\n\\nAs it stands now, the election has been st...</td>\n",
       "      <td>420</td>\n",
       "      <td>Selected Not Elected: The Election Has Been St...</td>\n",
       "    </tr>\n",
       "  </tbody>\n",
       "</table>\n",
       "</div>"
      ],
      "text/plain": [
       "     Unnamed: 0                                               text  label  \\\n",
       "6728       9220  \\n\\n \\nIf Clinton is elected, Obama will hand ...    420   \n",
       "609        5438  \\n\\n \\nIn the past 24 hours, some very stunnin...    420   \n",
       "665        7811  \\n\\n \\nUPDATE: HILLARY CLINTON IS AGAIN UNDER ...    420   \n",
       "407        2840  \\n\\n Another deadline lapsed Thursday in the s...    421   \n",
       "1862      10318  \\n\\nAs it stands now, the election has been st...    420   \n",
       "\n",
       "                                                content  \n",
       "6728  Hillary Is 70 Days Away From Controlling All F...  \n",
       "609   Just Another Day In the Life of the Clinton Cr...  \n",
       "665   14 Days to Do 14 Things, If Hillary’s Indicted...  \n",
       "407   Iran: Why the best outcome now is to keep nego...  \n",
       "1862  Selected Not Elected: The Election Has Been St...  "
      ]
     },
     "execution_count": 63,
     "metadata": {},
     "output_type": "execute_result"
    },
    {
     "data": {
      "text/html": [
       "<div>\n",
       "<style scoped>\n",
       "    .dataframe tbody tr th:only-of-type {\n",
       "        vertical-align: middle;\n",
       "    }\n",
       "\n",
       "    .dataframe tbody tr th {\n",
       "        vertical-align: top;\n",
       "    }\n",
       "\n",
       "    .dataframe thead th {\n",
       "        text-align: right;\n",
       "    }\n",
       "</style>\n",
       "<table border=\"1\" class=\"dataframe\">\n",
       "  <thead>\n",
       "    <tr style=\"text-align: right;\">\n",
       "      <th></th>\n",
       "      <th>Unnamed: 0</th>\n",
       "      <th>text</th>\n",
       "      <th>label</th>\n",
       "      <th>content</th>\n",
       "    </tr>\n",
       "  </thead>\n",
       "  <tbody>\n",
       "    <tr>\n",
       "      <th>6728</th>\n",
       "      <td>9220</td>\n",
       "      <td>\\n\\n \\nIf Clinton is elected, Obama will hand ...</td>\n",
       "      <td>420</td>\n",
       "      <td>Hillary Is 70 Days Away From Controlling All F...</td>\n",
       "    </tr>\n",
       "    <tr>\n",
       "      <th>609</th>\n",
       "      <td>5438</td>\n",
       "      <td>\\n\\n \\nIn the past 24 hours, some very stunnin...</td>\n",
       "      <td>420</td>\n",
       "      <td>Just Another Day In the Life of the Clinton Cr...</td>\n",
       "    </tr>\n",
       "    <tr>\n",
       "      <th>665</th>\n",
       "      <td>7811</td>\n",
       "      <td>\\n\\n \\nUPDATE: HILLARY CLINTON IS AGAIN UNDER ...</td>\n",
       "      <td>420</td>\n",
       "      <td>14 Days to Do 14 Things, If Hillary’s Indicted...</td>\n",
       "    </tr>\n",
       "    <tr>\n",
       "      <th>407</th>\n",
       "      <td>2840</td>\n",
       "      <td>\\n\\n Another deadline lapsed Thursday in the s...</td>\n",
       "      <td>421</td>\n",
       "      <td>Iran: Why the best outcome now is to keep nego...</td>\n",
       "    </tr>\n",
       "    <tr>\n",
       "      <th>1862</th>\n",
       "      <td>10318</td>\n",
       "      <td>\\n\\nAs it stands now, the election has been st...</td>\n",
       "      <td>420</td>\n",
       "      <td>Selected Not Elected: The Election Has Been St...</td>\n",
       "    </tr>\n",
       "  </tbody>\n",
       "</table>\n",
       "</div>"
      ],
      "text/plain": [
       "     Unnamed: 0                                               text  label  \\\n",
       "6728       9220  \\n\\n \\nIf Clinton is elected, Obama will hand ...    420   \n",
       "609        5438  \\n\\n \\nIn the past 24 hours, some very stunnin...    420   \n",
       "665        7811  \\n\\n \\nUPDATE: HILLARY CLINTON IS AGAIN UNDER ...    420   \n",
       "407        2840  \\n\\n Another deadline lapsed Thursday in the s...    421   \n",
       "1862      10318  \\n\\nAs it stands now, the election has been st...    420   \n",
       "\n",
       "                                                content  \n",
       "6728  Hillary Is 70 Days Away From Controlling All F...  \n",
       "609   Just Another Day In the Life of the Clinton Cr...  \n",
       "665   14 Days to Do 14 Things, If Hillary’s Indicted...  \n",
       "407   Iran: Why the best outcome now is to keep nego...  \n",
       "1862  Selected Not Elected: The Election Has Been St...  "
      ]
     },
     "execution_count": 63,
     "metadata": {},
     "output_type": "execute_result"
    }
   ],
   "source": [
    "#real or fake text is converted to numerical values\n",
    "le = LabelEncoder()\n",
    "news_dataset['label']=le.fit_transform(news_dataset.label)\n",
    "news_dataset.head()"
   ]
  },
  {
   "cell_type": "code",
   "execution_count": 64,
   "id": "71ddc1ff",
   "metadata": {},
   "outputs": [
    {
     "name": "stdout",
     "output_type": "stream",
     "text": [
      "<class 'pandas.core.frame.DataFrame'>\n",
      "Int64Index: 6569 entries, 6728 to 3515\n",
      "Data columns (total 4 columns):\n",
      " #   Column      Non-Null Count  Dtype \n",
      "---  ------      --------------  ----- \n",
      " 0   Unnamed: 0  6569 non-null   object\n",
      " 1   text        6569 non-null   object\n",
      " 2   label       6569 non-null   int32 \n",
      " 3   content     6569 non-null   object\n",
      "dtypes: int32(1), object(3)\n",
      "memory usage: 230.9+ KB\n",
      "<class 'pandas.core.frame.DataFrame'>\n",
      "Int64Index: 6569 entries, 6728 to 3515\n",
      "Data columns (total 4 columns):\n",
      " #   Column      Non-Null Count  Dtype \n",
      "---  ------      --------------  ----- \n",
      " 0   Unnamed: 0  6569 non-null   object\n",
      " 1   text        6569 non-null   object\n",
      " 2   label       6569 non-null   int32 \n",
      " 3   content     6569 non-null   object\n",
      "dtypes: int32(1), object(3)\n",
      "memory usage: 230.9+ KB\n"
     ]
    }
   ],
   "source": [
    "news_dataset.info()"
   ]
  },
  {
   "cell_type": "code",
   "execution_count": 65,
   "id": "51f28533",
   "metadata": {},
   "outputs": [],
   "source": [
    "#separating the data and label\n",
    "X= news_dataset['content'].values\n",
    "Y= news_dataset['label'].values"
   ]
  },
  {
   "cell_type": "code",
   "execution_count": 66,
   "id": "0535c962",
   "metadata": {},
   "outputs": [
    {
     "name": "stdout",
     "output_type": "stream",
     "text": [
      "['Hillary Is 70 Days Away From Controlling All Food and Water\\n\\n \\nIf Clinton is elected, Obama will hand her the power of a dictator.\\nUpon Inauguration Day, Clinton will have the power to to the following:\\n \\nAs President, Hillary Clinton Would Have the Power to Enact Slave Labor According to EO 13603, the President, or the head of any federal agency that he shall designate, can conscript â€œpersons of outstanding experience and ability without compensation,â€\\x9d in both â€œpeacetime and times of national emergency.â€\\x9d Â I can hear the Obama supporters now as they will write to me and say, â€œObama would never do that, you are drinking from the Kool-Aidâ€\\x9d.Â Well, here it is, you can read it for yourself.\\nSec.Â 502.Â Â Consultants.Â The head of each agency otherwise delegated functions under this order is delegated the authority of the President under sections 710(b) and (c) of the Act, 50 U.S.C. App. 2160(b), (c),Â to employ persons of outstanding experience and ability without compensationÂ and to employ experts, consultants, or organizations.Â The authority delegated by this section may not be redelegated. \\nHillary Will Have the Power to Nationalize All American Food and Food Production Through Executive Order 13603, Obama has granted himself the authority control all food and now has the unique ability to starve America into submission as it relates to his handing the country off to the bankers in the name of perpetuating the New World Order and ridding the planet of the weak and those who will not willingly go along with the intentional destruction of America. Here are some of the key provisions of EO 13603 and its impact on the control of the American food supply.\\nWith the stroke of his pen, Obama has total and absolute control over all food where hisÂ EO 13603 Â states: \\ne)Â â€œFood resourcesâ€\\x9d means all commodities and products, (simple, mixed, or compound), or complements to such commodities or products, that are capable of being ingested by either human beings or animals, irrespective of other uses to which such commodities or products may be put, at all stages of processing from the raw commodity to the products thereof in vendible form for human or animal consumption.Â â€œFood resourcesâ€\\x9d also means potable water packaged in commercially marketable containers, all starches, sugars, vegetable and animal or marine fats and oils, seed, cotton, hemp, and flax fiber, but does not mean any such material after it loses its identity as an agricultural commodity or agricultural product. (f)Â â€œFood resource facilitiesâ€\\x9d means plants, machinery, vehicles (including on farm), and other facilities required for the production, processing, distribution, and storage (including cold storage) of food resources, and for the domestic distribution of farm equipment and fertilizerâ€Śâ€\\x9d \\nThis unconstitutional EO is particularly disturbing in that it clearly states that the government has control over anything that is â€œcapable of being ingested by either human beings or animalsâ€Śâ€\\x9dÂ If you thought that you and Fido were going to get through the coming food crisis by storing and consuming dog food, think again.\\nIt is important to assess how devastating this Executive Order could prove to be to the American people though a brief assessment of Americaâ€™s food vulnerability.\\nThis is only the tip of the iceberg. Listen to Dave Hodges describe just how dangerous Clinton could be if elected.\\n\\n \\nL ike what we do?Â Please consider donating to The Common Sense Show â€“ CLICK HERE \\nMore Critical Reads You Need to SeeÂ by Dave Hodges! Click Here!Â \\nSubscribe to My Website at: Â www.thecommonsenseshow.com \\nCheck Me out OnÂ Youtube \\nCheck out our radio show on Sunday nights which airs on Global Star Radio Network from 8pm-11pm Eastern. The following icon is located in the upper left hand corner of our \\n\\nNext Guest:Â STEVE QUAYLE, DOUG HAGMANN, JOE HAGMANN \\n \\n\\nThis is the absolute best in food storage. Dave Hodges is a satisfied customer. FOR A SHORT TIME, WE ARE OFFERING 5% OFF OF ALL PURCHASES-USE COUPON CODE â€œhodgesnov5â€\\x9d Donâ€™t wait until it is too late.Â Â Click Here Â for more information. \\nIf the bad guy has night vision and you donâ€™t he wins. Donâ€™t be a victim, find out more byÂ Â CLICKING HERE Â Â \\n\\n\\nFrom the Hagmann blood sugar protocol to the Hodges joint protocol, Dr. Broer has helped hundreds of thousands of people. There is something for everybody atÂ Healthmasters.com . Â Â FOR COMMON SENSE SHOW LISTENERS YOU CAN TAKE 5% OFF ALL NEW ORDERS. SIMPLY USE THE COUPON CODE â€œHODGESâ€\\x9d \\nÂ Â \\n\\nThe sane alternative to Facebook \\nSeen.Life-The Facebook alternative- no censorship, no spyingâ€“ SIGN UP HERE By Dave Hodges | N FAKE'\n",
      " 'Just Another Day In the Life of the Clinton Crime Family\\n\\n \\nIn the past 24 hours, some very stunning pieces of information have leaked out regarding the Clinton Crime Family. I am shocked about how pervasive the criminality is in what has been only a 24 hour news cycle.\\nAssange’s Lawyers Are Dead There are two lawyers who represented WikiLeaks founder, Julian Assange, who died and their deaths were in very close proximity, only a Â mere month apart.\\nAssange attorney, John Jones,Â suicide was committed by the top lawyer Â when he jumped in front of a train in West Hamstead, in which the police did not even consider the possibility of foul play. The authorities, courtesy of the Clinton Foundation, found nothing suspicious about the manner of Jones’ death.\\nMichael Ratner made a career out of defending government whistle-blowers and detainees, something that one could argue was right inside of Assange’sÂ Â wheelhouse. Ratner’s death was shrouded in mystery. It is important to note that Ratner had actually sued three sitting US Presidents and tried to get George W. Bush impeached for lying America into the Iraq war. Certainly, when someone like Â Ratner who had begun to represent Assange, was a terrible threat to the Clintons and the Clinton Foundation and had to be dealt with.\\nChief Investigator for Bill Clinton’s Impeachment Trial Lives In Fear of His Life Aaron Klein, yes the same Aaron Klein who released emails, before they were purged, which demonstrated that Clinton was sending out, through her personal server the travel plans of Ambassador Stevens prior to his death at Benghazi, recently interview Dave Shippers the Chief Investigator of Bill Clinton’s impeachment trial. Shippers professed that he still lives in fear of his life.\\nâ€œToday, I am still terrified of Hillary. Absolutely I am terrified. Because if she gets into office. In fact, Iâ€™ve told my wife, I said, â€˜If Hillary gets elected, look for the FBI or somebody to come and pick me up the next day.â€™ \\nâ€œAnd I think Iâ€™m the only one left. [Former Congressman] Henry Hyde is dead. [Independent Counsel Kenneth] Star didnâ€™t really hurt her. Yeah. I was scared when I was out thereâ€Ś Iâ€™ve been terrified ever since. Because things happen. Things happen.â€\\x9d \\nKlein allowed his interview to drift into the area of Vince Foster’s alleged suicide which Shippers was convinced that his event was a murder designed to cover up Hillary Clinton’s criminal behavior. Shippers also mentioned the impeachment investigation, centering around Clinton lying about his affair with Monica Lewinski, uncovered evidence of at least three murders connected to Hillary Clinton. However, as Shippers stated, the investigation was limited to to the Lewinski angle. This is really ashame because of the fact that Hillary Clinton could have been stopped in the 1990’s and this nation would not, today, be fighting for its life under the threat of an extinction level event such as the specter of a Clinton Presidency.\\nAnthony Weiner Fears for His Life At the Hands of Hillary Clinton The perverted Congressman, who could not stop sexting grossly inappropriate images of himself to underage girls, may have unwittingly put another very large nail in the political coffin of Hillary Rodham Clinton.\\nAccording to sources , we now know that the FBI accidentally discovered that Weiner had several emails that were suspiciouslyÂ marked â€œlife insuranceâ€\\x9d Â and the FBI found that these email were directly related to the FBIâ€™s investigation of Hillary Clinton.Â Disturbingly, these same sources indicated that the sources were turned over to the FBI over Â a month ago while the FBI was still running interference for the Clinton Crime Family. It is very concerning that Comey never mentioned these damning emails.\\nThe NYPD had the same information and they planned to leak the information despite intense pressure not to do so. This information not only shows that Anthony Weiner was in extreme fear of his life, from the Clintons, that he actually created his Julian Assange’s style of a dead man’s switch in the event of his death. I would add, that Huma may want to avoid subway trains and airplanes for awhile for her own safety. I predict that Weiner will become a star witness in either the immediate take down of Hillary, or her impeachment trial should George Soros be able to steal the election for her.\\nConclusion For the good of the country, Hillary needs to step down immediately. She has made our justice system and nation, as a whole, a complete laughing stock. Anyone, and I mean anyone, who would vote for Hillary Clinton, needs to take a long look in the mirror and ask yourself what kind of person are you. How can you face your kids and claim to be a moral authority in their lives and vote for this evil monster?\\nThis is just another day in the life of the Clinton Crime Family.\\n\\nP lease Donate to The Common Sense Show \\n \\nPLEASE SUBSCRIBE TO OUR YOUTUBE CHANNEL AND DONâ€™T FORGET TO â€œLIKEâ€\\x9d US \\n\\n \\n\\nThis is the absolute best in food storage. Dave Hodges is a satisfied customer. Â Â Donâ€™t wait until it is too late.Â Click Here Â Â for more information.\\n \\n\\n\\nClick here for more information \\n \\nThe sane alternative to Facebook \\nSeen.Life-The Facebook alternative- no censorship, no spyingâ€“ Sign up here \\n\\n \\n \\n \\n\\n \\n \\nFAKE'\n",
      " '14 Days to Do 14 Things, If Hillary’s Indicted-Extreme Violence Expected\\n\\n \\nUPDATE: HILLARY CLINTON IS AGAIN UNDER INVESTIGATION BY THE FBI. IF SHE IS INDICTED, HER PEOPLE WILL UNDOUBTEDLY LAUNCH A CYBER ATTACK ON THE ELECTIONS AND BLAME THE RUSSIANS. HILLARY HAS TIPPED HER HAND MANY TIMES. IF THIS HAPPENS, YOU MUST HASTEN YOUR PREPARATIONS. IF HILLARY SKATES, AGAIN, WE STILL ONLY HAVE A SHORT WINDOW TO ALL HELL BREAKING LOOSE. PLEASE PREPARE NOW! \\nThe Common Sense Show issued an alert yesterday with regard to the likelihood of widespread violence, regardless of who wins the election. The violence may not be dramatic on November, but I believe that a crescendo will be reached by the holidays. There are literally dozens of troop movements and a number of martial law events taking place as I write these words. The bottom line is, half of the country hates the other half of the country and pressure valve is ready to blow. And if Trump wins, the violence factor will escalate exponentially as evidenced by the firebombed GOP building in North Carolina.\\nWhen these events come to fruition, it could potentially paralyze this nation and bring the economy to a standstill. Subsequently, the grocery store shelves could be empty within two days and food riots would likely commence by sundown of the second day. All Americans would instantly be in danger. Local law enforcement would be overwhelmed. What would be your chances of survival? Yesterday, I wrote about the fact that FEMA has conducted research studies on America’s level of preparedness and the news is not good. FEMA concluded that 72% of all Americans are not prepared to survive what is coming In other words, when society begins to fragment, you and your fellow preppers are outnumbered by a 3 to 1 margin.\\nAre you prepared for 3 out of 4 of your neighbors climbing through your windows in search of life-saving supplies?\\nThe FEMA Preparedness Reports In response to concerns about strengthening the nation’s ability to protect its population and way of life (i.e., security) and ability to adapt and recover from emergencies (i.e., resilience), the President of the United States issued Presidential Policy Directive 8: National Preparedness (PPD-8).\\nPPD-8 is a directive for the Department of Homeland Security to coordinate a comprehensive campaign to encourage Americans to practice national preparedness. Despite efforts by FEMA and other organizations to educate American citizens on becoming prepared, growth in specific preparedness behaviors has been limited. Government programs to this end are nearly nonexistent.\\nI have spent the past week illustrating how a coming economic collapse is unavoidable and how the elite have conspired to steal as many of your assets as possible prior to the collapse. This article presents some common sense things one can do which could increase the chances of surviving a major societal meltdown resulting from an economic collapse. If you have any doubts as to what is coming, I strongly encourage you to read what I have written about on this topic over the past several months. Even Ray Charles could see that our economy will not be around much longer in its present form.\\nIt is always best to prepare for the worst and hope for the best. For the purposes of this article, it is possible that society will not totally collapse even if the dollar does. However, large segments of societies always collapse when an economic collapse happens. Surviving the worst case scenario is the purpose behind what will be covered here.\\nWe have about 14 days to do the following 14 things: 1. The Creation of a Pseudo-Identity It may be necessary to become invisible in the event you think you believe that your name could be on a (Red) list because roundups will usually occur in dire situations. Therefore, the creation of a pseudo-identity could become very important.\\n2. It Takes Money to Prepare If you have read the articles at the above links, you should have concluded that it is the height of stupidity to leave your life savings in an institution that is planning to steal from you. You need to divert your cash, other than the ability to pay basic bills, in preparation for what is coming.\\nGetting your money out of the bank has become an art form and you need to be careful. There is a barrier to your ability to procure some of these life-saving and life-extending supplies. Right now, you do not have full access to your money.\\nAs you move to withdraw the bulk of your money, there are three federal banking laws that you should be cognizant of, namely, Cash Transaction Report (CTR), a Suspicious Activity Report (SAR) and structuring.\\nCash Transaction Reports Federal law requires that the bank file a report based upon any withdrawal or deposit of $10,000 or more on any single given day.The law was designed to put a damper on money laundering, sophisticated counterfeiting and other federal crimes.\\nTo remain in compliance with the law, financial institutions must obtain personal identification, information about the transaction and the social security number of the person conducting the transaction.\\nBefore proceeding with the planned withdrawal of your money, I would strongly suggest that you read the following federal guidelines as it relates to CTR’s as produced by the The Financial Crimes Enforcement Network (FinCEN). All the federal regulations contained in this article are elucidated in this series of federal reports.\\nStructuring and SAR There will undoubtedly be some geniuses whose math ability will tell them that all they have to do is to withdraw $9,999.99 and the bank and its protector, the federal government will be none the wiser. It is not quite that simple. The bank is required to file a Suspicious Activity Report (SAR) which serves to notify the federal government of an individual’s attempt to structure deposits or withdrawals by circumventing the $10,000 reporting requirement.\\nStructuring transactions to prevent a CTR from being reported can result in imprisonment for not more than five years and/or a fine of up to $250,000. If structuring involves more than $100,000 in a twelve month period or is performed while violating another law of the federal government, the penalty is doubled. \\nEnforcement Much like the enforcement of our tax laws, the federal government’s enforcement of its banking laws as it relates to CTR’s, SAR’s and subsequent structuring is quite draconian. Civilian asset forfeiture laws come into play. The government can seize your bank accounts while it determines if a crime has been committed. The government can literally seize your assets in perpetuity without an order of the court. Of course, you could try and sue but you will be up against the deep pockets of the federal government and the case could take years. By the time your case is decided, the financial banking crisis that you are so desperately trying to avoid by withdrawing your money, could be over. So, proceed with caution.\\nWithdrawing Your Money From the Bank The best way to avoid getting your money caught in the bank in the midst of a bank run would be to not let the lion’s share of your money ever cross the bank. The simplest way to accomplish this is to prevent any form of deposit from going automatically into your account, as much as it is possible.\\nSecondly, you need to begin to pay cash for everything. Let’s say that every 30 days, Bob cashes his check at the bank from his work worth $5,000 net pay. Bob leaves just enough in the bank to be able to conduct normal banking business. Bob walks out of the bank every month with the majority of the cash from his check. Bob should begin to pay cash for as much as he can, such as eating out, paying the electric bill (pay the bill in person), buying groceries, etc. When it becomes necessary to make a “big ticket” purchase, Bob could temporarily leave more in the bank to cover the writing of a check.\\nYou would also be wise to open multiple banking accounts ranging from the big five megabanks to your local credit unions. You could withdraw much smaller amounts until the sum total of your accounts is greatly diminished and is in your possession. To open the accounts, simply write a personal check from your home bank. Of course, in these cases, the bank could hold the check for 15-30 days.\\nI cannot promise you that if you become the target of federal investigators, that you will not have your every financial move scrutinized and the feds will eventually discover the aggregate patterns of withdrawal. People who I interviewed told me that they believe that the federal government is in the process of getting the banking computers to “talk” to each other in a way that would reveal structuring, but that technology is not yet online.\\nIf you ever become the target of a federal investigation, do not, under any circumstances, allow yourself to be interviewed by federal officials without an attorney present. In many cases, people go to jail and pay huge fines, not because they have committed a federal crime, but because federal officials state that they have lied or misled them. And if you do not have an attorney present, it is your word versus the federal government. There are other sources besides banks that you can tap into for money which can be used to prepare for what is coming.\\n4o1K’s, IRA, et al If you were 100% convinced of an imminent crash, you would be foolish not to take your money out. However, the prepayment penalty of 50% is steep if you withdraw your funds before you are 59.5 years old.\\nIf you are retiring soon, take the lump sum option and convert all of these retirement monies to survival supplies and gold which you will need as the world emerges from the crash.\\nThe moral of the story is to become as liquid as possible, from a cash perspective. Getting access to your money is only the first part of being prepared to survive an economic crash.\\n3. Make a List Buy a good prepper book. Holly Deyo is an excellent source for this information (www.standdeyo.com). In the interim, procure your food, water, guns, ammo and home security adjustments. If you do not have a big dog, consider obtaining a pair. These animals will be your companion, home security system and ally if someone attempts to breach your home with bad intent. Of course, you will have to store dog food as well.\\nSit down and construct a list of what you will need after reading a good prepper book.\\nMake all of you purchases in cash! You do not want to let the wrong people know what you are up to.\\n \\n4. Rural Vs. Urban We have to live our lives for today and it may not be possible to move to a rural area because of your job. However, one survivalist that I was speaking with estimates that the rate of survival for a country in economic chaos would be 10 times higher for rural residents as opposed to urban residents. Consider buying a place in an isolated area and commuting to work in the interim.\\n5. Pay Off Your Mortgage and Car Loans If you have a CD, a 401k or any other long-term investment, you might want to consider taking the penalty and executing a withdrawal and apply what’s left of the principal, usually about 50% of the original value, and paying down your major debts.\\nAfter an economic collapse, you most likely will not have a job and your retirement and savings will likely be wiped out and confiscated. That is why it would be wise to pay down your debt while you can afford to do so because after the collapse, there will still be foreclosures and repossessions and if you and your family survive, you could be on the street if you cannot pay your bills.\\n \\n6. Buy Gold and Silver While You Can Afford It Goldman Sachs has been shorting gold. The elite have been hording gold as have the BRICS. These entities are telling you, by action, what medium of exchange is going to be of value following the collapse that is coming.\\nStoring gold and silver is an economic survival strategy which will pay dividends after the smoke begins to clear in the post-collapse era.\\n\\n \\n7. Practice Austerity Before Austerity Is Imposed On You It is critical to immediately eliminate all unnecessary expenses. Give yourself some operating capital. You may be able to purchase a bug-out residence in a rural area. You will certainly be able to afford more survival gear.\\nIn order to increase your immediate cash flow, start an at-home business. Start a business which has virtually no upfront and startup costs. Even if you are not able to generate much income, you will create a legal tax evasion strategy in which you can legally deduct many of your present activities and expenses (e.g. mileage, the purchase of any office supply, etc.) including survival gear.\\n \\n8. Create and Store Your Own Food With regard to storing food, you need to do so immediately. I recommend storing two years worth of food. However, you need to master the art of growing food inside your home. There are plenty of resources which can teach you how to do that. However, you would be wise if you would create a hiding place in which you can store food and water safely in a hidden location . If you are ever robbed, you will not have exhausted your food supplies. You are most likely to be robbed by FEMA or one of their mercenary groups (e.g. Academia) during the beginning of the crisis because food and water will be used as weapons to control you. I am personally aware of FEMA going to selected homeowners to catalogue their reserve food and water supplies. Remember, water is sunlight and temperature sensitive. There are plenty of prepper manuals that you can consult for instructions on how to meet these needs. The time to do these things is yesterday.\\nThe biggest threat to survival is death due to dehydration and starving to death. Contaminated water will also pose a threat. There are plenty of places to purchase large drums and obtain water tablets for water purification purposes. Obtain a pair of water filters in case you have to go mobile to survive.\\nFinally, learn to grow your own food within your residence. Your garden will likely be raided by humans and hungry animals alike. There are plenty of prepper manuals which can teach you how to accomplish this task.\\n9. Personal Supplies Of course you will need toothpaste, toiletries, eating utensils, feminine hygiene supplies, etc. For a complete list of personal items see Steve Quayles list on his website .\\n \\n10. Horde Medicines and Medical Supplies If you or your family has a chronic health condition, it is critical that you have 6 months to a year in medicine. Also, you should research natural alternatives to treatment for health conditions in case you are not able to meet this goal due to the inability to obtain prescriptions. Don’t forget to obtain some pain medication and antibiotics in case of unforeseen emergencies. Make a trip to Mexico and sneak across medication in old pill bottles in order to escape detection by the Border Patrol who will ask you if you obtained medication in Mexico when you come back across the border.\\nIf you can safely ration your existing medication doses, do so and store the excesses. Make sure you also have a first aid kit. Take a First Aid class including CPR at your local fire station.\\nSome are thinking that this is a lot of work. My response would be, how bad do you want you and your family to survive?\\n11. Guns and Ammunition Regardless of your moral convictions, ask yourself if you want your family to survive.\\nBuy your guns off the books from private parties and at gun shows. “Keep guns for show and guns for go”. In other words, have a safe location that you can bury guns so that when gun confiscation begins, you will not be left totally defenseless.\\nAmerica needs to not only create safe and secure homes, but to create as many Warsaw ghettos as possible (look it up). We need to make ourselves a hard country to conquer and occupy. We cannot stop a treasonous leader from handing off the country to some foreign entity (e.g. the UN). However, occupation of America should be problematic for the blue-helmet wearing Russians, Chinese and other proxy forces training on our soil to occupy us.\\nIt is recommended that you have 3 types of weapons: (1) pistols for close in fighting; (2) shotguns for defense of the entrance to your home; and, (3) a rifle with a scope in order to fight back against long-range snipers that do not want to storm your home because you appear to be prepared. Immediately, obtain weapons instruction for you and your family, firearms training and then practice! Conduct mock raids on your residence so that you can see your vulnerabilities. An armed populace makes a people more feared by an abusive government.\\nDo not forget about gas masks for each member of your family and make sure to store extras. If you have the means to obtain body armor, do so now, because Congress is preparing to outlaw the private use of body armor.\\n \\n12. Prepare to Survive in the Raw Elements and Build a Way of Life \\nIt is possible that you can learn to survive in the raw elements without heating and central air conditioning. You may not have lights. Obtain flashlights, many batteries and a hand crank radio.\\nMake sure you have clothes befitting all weather that you may encounter because a crisis that begins in January, may not be over by August.\\nTake a weekend and pretend the grid is down. This will allow you to see firsthand what supplies you will need. When should you perform this drill? There is no time like the present.\\nTo people with generators, congratulations on your foresight. However, if you are the only house on the block with lights, how long do you think it will be until you have unwanted visitors with bad intent?\\nGet in shape, begin to walk, jog or run. The better shape you are in, the better.\\nDon’t forget about procuring non-electronic forms of entertainment. This should include board games and educational materials for your children. You will want to establish some normalcy for the sake of your children. You are preparing to adopt a new way of life. Make the new life worth living.\\nI would also recommend that every personal library contain The Constitution of the United States. After the chaos subsides, we will need to rebuild. You will not want to live in a “might makes right” society.\\n13. For Goodness Sake, Do Not Tell Anyone If your four adjacent neighbors broach the topic of preparedness, gauge the situation and then make an informed decision. If your neighbors are on board with preparing, that will help you form a defensive perimeter and a mutual alliance pact. Otherwise, tell nobody of your preparation plans. Do not tell your friends, family members, and co-workers. Make your preparations in cash or cashier’s checks as much as possible. Limit the paper trail to you. You do not want the government to know that you are prepared because you could be the first one on your block that is visited at 3AM. You and your mate should prepare in stealth. Kids talk and so do their friends.\\n14. PRAY! Survival is never guaranteed, salvation is! And do not forget one of your most important resources, your Bible. In a post-collapse America, it is likely that a religion will be forced upon the survivors and that religion will not be Christianity.\\nConclusion In an upside-down world in which the banks legally own your money, getting your money away from these criminal banks has become an art form. I cannot promise you that you will be able to retrieve all of your assets. However, I can promise you that if you do not act, you will lose everything and you will lack needed supplies to weather what is coming.\\nI would strongly suggest that you keep your gas tank filled and you have plenty of cash, food and ammunition on hand. It is better to be safe than sorry.\\n \\nBreaking News: FBI Investigation Reopens The elite may be pulling their support for Hillary. She is, again, under investigation by the FBI. IF her plug is pulled, the violence may come sooner than we anticipated- Get to work America, we do not have long.\\nDONATE TO THE COMMON SENSE SHOW Don’t wait for the collapse of the dollar because it will be too late.\\nFAKE'\n",
      " ...\n",
      " \"Veterans help veterans cope with PTSD through decorated Marine’s New York-based nonprofit Headstrong Project‹ › Arnaldo Rodgers is a trained and educated Psychologist. He has worked as a community organizer and activist. Veterans help veterans cope with PTSD through decorated Marine’s New York-based nonprofit Headstrong Project By Arnaldo Rodgers on November 7, 2016 PTSD \\nBY Larry Mcshane \\nTwo years after serving two tours in Iraq, Army veteran Dustin Shryock started feeling something was wrong — and he didn’t know how to make it right. \\n“Anxiety attacks that would pop up for no reason,” he recalls of the problems that surfaced out of the blue in 2010. “I’d be sitting on the couch, doing nothing. You can just imagine a normal anxiety attack, like a public speaking engagement. \\n“And a tiny little thing like that, over time, over and over, became debilitating.” \\nA fellow veteran pulled him aside with a solution: The Headstrong Project, a group founded four years ago by combat-decorated Marine Corps officer Zach Iscol to assist his fellow American fighters scarred by invisible wounds. \\nRead the Full Article at www.nydailynews.com >>>> Related Posts: No Related Posts The views expressed herein are the views of the author exclusively and not necessarily the views of VNN, VNN authors, affiliates, advertisers, sponsors, partners, technicians or the   and its assigns. Notices Posted by Arnaldo Rodgers on November 7, 2016, With 0 Reads, Filed under PTSD , Veterans . You can follow any responses to this entry through the RSS 2.0 . You can leave a response or trackback to this entry FaceBook Comments \\nYou must be logged in to post a comment Login WHAT'S HOTFAKE\"\n",
      " \"“Honor Our Immigrant Veterans” Replayed‹ › Arnaldo Rodgers is a trained and educated Psychologist. He has worked as a community organizer and activist. “Honor Our Immigrant Veterans” Replayed By Arnaldo Rodgers on November 8, 2016 Veterans By elizawhig \\n“Honor Our Immigrant Veterans” from VoteVets is a video on Youtube I tripped over recently, and have watched several times. It is that good. Another Kossack may have already posted it, but I would like to get it some play. Not because I think it will change any voter’s mind, but because it deserves to be seen to remind us of who we are as Americans. We are all immigrants or the children of immigrants, and we and our relatives and grandparents have had to make tough choices that deserve to be remembered. \\nI had an uncle (by marriage) who was Italian. In 1940 he was still not a US citizen, although I gather he had begun the process, so he was sent to an internment camp in Wyoming (or Montana?). While he waited for his citizenship application to be completed, he and his fellow detainees played a lot of poker. His papers were finally processed, he was made a US Citizen, then was promptly drafted into the US Army as a Sargent (Supply). And of course he was sent to…Italy. His division survived Anzio, then my uncle came into his glory. His father was someone of importance further north, so he had connections. He was able to secure excellent billets (in a castle) and good food and drink for his comrades. \\nRead the Full Article at www.dailykos.com >>>> \\nRelated Posts: No Related Posts The views expressed herein are the views of the author exclusively and not necessarily the views of VNN, VNN authors, affiliates, advertisers, sponsors, partners, technicians or the Veterans Today Network and its assigns. Notices Posted by Arnaldo Rodgers on November 8, 2016, With 0 Reads, Filed under Veterans . You can follow any responses to this entry through the RSS 2.0 . You can leave a response or trackback to this entry FaceBook Comments \\nYou must be logged in to post a comment Login WHAT'S HOTFAKE\"\n",
      " \"Rep. Gowdy on the impact of the FBI’s new Clinton inquiry‹ › Debbie Menon is an independent writer based in Dubai. She is Editor-in-Chief of VeteransNewsNow.com Her main focus are the US-Mid-East Conflicts. Her writing has been featured in several print and online publications in the Middle East. She is committed to exposing (AIPAC) the Israel Lobby's control of American policy for the Middle East. Control which amounts to treason by the Zionist Lobbies in America and its stooges in Congress, and that guarantees there can never be a peaceful resolution of the Middle East conflicts, only catastrophe for all, in the region and the world. Her focus is Israel’s drift towards greater oppression of the Palestinian people; the political deceptions and crisis in Syria and Ukraine; the cold hard facts about America’s so-called ‘war on terror’ and grim future; countering the propaganda war towards Iran & Russia and calling attention to, the new, developing, promising, strategic alliances as a consequence. Her mission is to inform and educate the public on issues of the US/Middle East conflicts that are unreported, underreported, or distorted in the Zionist owned American Media. Her writing reflects the incredible resilience, almost superhuman steadfastness of the occupied and oppressed Palestinians, who are now facing the prospect of a final round of ethnic cleansing. Her mission is to inform and educate internet viewers seeking unfiltered information about real events on issues of the US/Middle East conflicts that are unreported, underreported, or distorted in the American media. Her purpose is to look at the current reality from a different and critical perspective, not to simply rehash the pro-US/Israel perspective, smoke and mirrors that has been allowed to utterly and completely dominate Mainstream discourse. PS: For those of her detractors that think she is being selective and even “one sided,” tough, that is the point of her work, to present an alternative view and interpretation of the US-Israel-Middle East conflict, that has been completely ignored in mainstream discourse and denied the US public. Oh, and she is not Muslim or Palestinian and not married to one either! She is practicing Roman catholic. Rep. Gowdy on the impact of the FBI’s new Clinton inquiry By Debbie Menon on October 31, 2016 BRAVO! Rep. Gowdy. Senator Trey Gowdy is an American attorney, politician and former prosecutor. He currently serves as the U.S. Representative for South Carolina’s 4th congressional district. \\nSenator Trey Gowdy is right, timing is consequence of decisions Hillary made period. Jim Comey’s obligation is to the public. \\nSenator (Harry) Reid is simply “just another” one of the political hacks who populate that massive brothel we call Capitol Hill. Senator Reid and others are aware of the treasonous and criminal nature of the Clintons. \\nHillary Clinton is probably guilty of many things which have not surfaced as openly or as clearly, so lets not scapegoat Huma Abedine and her husband. Hillary is obviously guilty as sin of malfeasance of office and negligence, for the very fact that she exposed her country’s secrets to hackers, knowingly using a private server to conduct State Department business with the outside world and should be called to account for it. Period. \\nIt is people like Bill & Hillary who have become to Big to Fall and the basic problems and causes of the fundamental failures in US Government. Two of the major rotten apples in the barrel, and these are probably two of the most obvious who should be prosecuted not only as examples to the others, but for delivery of the justice which they have earned… and which the citizens of America deserve! \\nInstead of rewarding them by returning them to the Oval office, they should be investigated, and they should be held accountable. Americans can live in a State of Law and Justice, or a State of suppression, injustice, corruption and subjugation to powerful politicians. It is their choice! \\nPublished on Oct 30, 2016 Chairman of the House Select Committee on Benghazi, Rep. Gowdy, weighs in on ‘Special Report’FAKE\"]\n"
     ]
    },
    {
     "name": "stdout",
     "output_type": "stream",
     "text": [
      "['Hillary Is 70 Days Away From Controlling All Food and Water\\n\\n \\nIf Clinton is elected, Obama will hand her the power of a dictator.\\nUpon Inauguration Day, Clinton will have the power to to the following:\\n \\nAs President, Hillary Clinton Would Have the Power to Enact Slave Labor According to EO 13603, the President, or the head of any federal agency that he shall designate, can conscript â€œpersons of outstanding experience and ability without compensation,â€\\x9d in both â€œpeacetime and times of national emergency.â€\\x9d Â I can hear the Obama supporters now as they will write to me and say, â€œObama would never do that, you are drinking from the Kool-Aidâ€\\x9d.Â Well, here it is, you can read it for yourself.\\nSec.Â 502.Â Â Consultants.Â The head of each agency otherwise delegated functions under this order is delegated the authority of the President under sections 710(b) and (c) of the Act, 50 U.S.C. App. 2160(b), (c),Â to employ persons of outstanding experience and ability without compensationÂ and to employ experts, consultants, or organizations.Â The authority delegated by this section may not be redelegated. \\nHillary Will Have the Power to Nationalize All American Food and Food Production Through Executive Order 13603, Obama has granted himself the authority control all food and now has the unique ability to starve America into submission as it relates to his handing the country off to the bankers in the name of perpetuating the New World Order and ridding the planet of the weak and those who will not willingly go along with the intentional destruction of America. Here are some of the key provisions of EO 13603 and its impact on the control of the American food supply.\\nWith the stroke of his pen, Obama has total and absolute control over all food where hisÂ EO 13603 Â states: \\ne)Â â€œFood resourcesâ€\\x9d means all commodities and products, (simple, mixed, or compound), or complements to such commodities or products, that are capable of being ingested by either human beings or animals, irrespective of other uses to which such commodities or products may be put, at all stages of processing from the raw commodity to the products thereof in vendible form for human or animal consumption.Â â€œFood resourcesâ€\\x9d also means potable water packaged in commercially marketable containers, all starches, sugars, vegetable and animal or marine fats and oils, seed, cotton, hemp, and flax fiber, but does not mean any such material after it loses its identity as an agricultural commodity or agricultural product. (f)Â â€œFood resource facilitiesâ€\\x9d means plants, machinery, vehicles (including on farm), and other facilities required for the production, processing, distribution, and storage (including cold storage) of food resources, and for the domestic distribution of farm equipment and fertilizerâ€Śâ€\\x9d \\nThis unconstitutional EO is particularly disturbing in that it clearly states that the government has control over anything that is â€œcapable of being ingested by either human beings or animalsâ€Śâ€\\x9dÂ If you thought that you and Fido were going to get through the coming food crisis by storing and consuming dog food, think again.\\nIt is important to assess how devastating this Executive Order could prove to be to the American people though a brief assessment of Americaâ€™s food vulnerability.\\nThis is only the tip of the iceberg. Listen to Dave Hodges describe just how dangerous Clinton could be if elected.\\n\\n \\nL ike what we do?Â Please consider donating to The Common Sense Show â€“ CLICK HERE \\nMore Critical Reads You Need to SeeÂ by Dave Hodges! Click Here!Â \\nSubscribe to My Website at: Â www.thecommonsenseshow.com \\nCheck Me out OnÂ Youtube \\nCheck out our radio show on Sunday nights which airs on Global Star Radio Network from 8pm-11pm Eastern. The following icon is located in the upper left hand corner of our \\n\\nNext Guest:Â STEVE QUAYLE, DOUG HAGMANN, JOE HAGMANN \\n \\n\\nThis is the absolute best in food storage. Dave Hodges is a satisfied customer. FOR A SHORT TIME, WE ARE OFFERING 5% OFF OF ALL PURCHASES-USE COUPON CODE â€œhodgesnov5â€\\x9d Donâ€™t wait until it is too late.Â Â Click Here Â for more information. \\nIf the bad guy has night vision and you donâ€™t he wins. Donâ€™t be a victim, find out more byÂ Â CLICKING HERE Â Â \\n\\n\\nFrom the Hagmann blood sugar protocol to the Hodges joint protocol, Dr. Broer has helped hundreds of thousands of people. There is something for everybody atÂ Healthmasters.com . Â Â FOR COMMON SENSE SHOW LISTENERS YOU CAN TAKE 5% OFF ALL NEW ORDERS. SIMPLY USE THE COUPON CODE â€œHODGESâ€\\x9d \\nÂ Â \\n\\nThe sane alternative to Facebook \\nSeen.Life-The Facebook alternative- no censorship, no spyingâ€“ SIGN UP HERE By Dave Hodges | N FAKE'\n",
      " 'Just Another Day In the Life of the Clinton Crime Family\\n\\n \\nIn the past 24 hours, some very stunning pieces of information have leaked out regarding the Clinton Crime Family. I am shocked about how pervasive the criminality is in what has been only a 24 hour news cycle.\\nAssange’s Lawyers Are Dead There are two lawyers who represented WikiLeaks founder, Julian Assange, who died and their deaths were in very close proximity, only a Â mere month apart.\\nAssange attorney, John Jones,Â suicide was committed by the top lawyer Â when he jumped in front of a train in West Hamstead, in which the police did not even consider the possibility of foul play. The authorities, courtesy of the Clinton Foundation, found nothing suspicious about the manner of Jones’ death.\\nMichael Ratner made a career out of defending government whistle-blowers and detainees, something that one could argue was right inside of Assange’sÂ Â wheelhouse. Ratner’s death was shrouded in mystery. It is important to note that Ratner had actually sued three sitting US Presidents and tried to get George W. Bush impeached for lying America into the Iraq war. Certainly, when someone like Â Ratner who had begun to represent Assange, was a terrible threat to the Clintons and the Clinton Foundation and had to be dealt with.\\nChief Investigator for Bill Clinton’s Impeachment Trial Lives In Fear of His Life Aaron Klein, yes the same Aaron Klein who released emails, before they were purged, which demonstrated that Clinton was sending out, through her personal server the travel plans of Ambassador Stevens prior to his death at Benghazi, recently interview Dave Shippers the Chief Investigator of Bill Clinton’s impeachment trial. Shippers professed that he still lives in fear of his life.\\nâ€œToday, I am still terrified of Hillary. Absolutely I am terrified. Because if she gets into office. In fact, Iâ€™ve told my wife, I said, â€˜If Hillary gets elected, look for the FBI or somebody to come and pick me up the next day.â€™ \\nâ€œAnd I think Iâ€™m the only one left. [Former Congressman] Henry Hyde is dead. [Independent Counsel Kenneth] Star didnâ€™t really hurt her. Yeah. I was scared when I was out thereâ€Ś Iâ€™ve been terrified ever since. Because things happen. Things happen.â€\\x9d \\nKlein allowed his interview to drift into the area of Vince Foster’s alleged suicide which Shippers was convinced that his event was a murder designed to cover up Hillary Clinton’s criminal behavior. Shippers also mentioned the impeachment investigation, centering around Clinton lying about his affair with Monica Lewinski, uncovered evidence of at least three murders connected to Hillary Clinton. However, as Shippers stated, the investigation was limited to to the Lewinski angle. This is really ashame because of the fact that Hillary Clinton could have been stopped in the 1990’s and this nation would not, today, be fighting for its life under the threat of an extinction level event such as the specter of a Clinton Presidency.\\nAnthony Weiner Fears for His Life At the Hands of Hillary Clinton The perverted Congressman, who could not stop sexting grossly inappropriate images of himself to underage girls, may have unwittingly put another very large nail in the political coffin of Hillary Rodham Clinton.\\nAccording to sources , we now know that the FBI accidentally discovered that Weiner had several emails that were suspiciouslyÂ marked â€œlife insuranceâ€\\x9d Â and the FBI found that these email were directly related to the FBIâ€™s investigation of Hillary Clinton.Â Disturbingly, these same sources indicated that the sources were turned over to the FBI over Â a month ago while the FBI was still running interference for the Clinton Crime Family. It is very concerning that Comey never mentioned these damning emails.\\nThe NYPD had the same information and they planned to leak the information despite intense pressure not to do so. This information not only shows that Anthony Weiner was in extreme fear of his life, from the Clintons, that he actually created his Julian Assange’s style of a dead man’s switch in the event of his death. I would add, that Huma may want to avoid subway trains and airplanes for awhile for her own safety. I predict that Weiner will become a star witness in either the immediate take down of Hillary, or her impeachment trial should George Soros be able to steal the election for her.\\nConclusion For the good of the country, Hillary needs to step down immediately. She has made our justice system and nation, as a whole, a complete laughing stock. Anyone, and I mean anyone, who would vote for Hillary Clinton, needs to take a long look in the mirror and ask yourself what kind of person are you. How can you face your kids and claim to be a moral authority in their lives and vote for this evil monster?\\nThis is just another day in the life of the Clinton Crime Family.\\n\\nP lease Donate to The Common Sense Show \\n \\nPLEASE SUBSCRIBE TO OUR YOUTUBE CHANNEL AND DONâ€™T FORGET TO â€œLIKEâ€\\x9d US \\n\\n \\n\\nThis is the absolute best in food storage. Dave Hodges is a satisfied customer. Â Â Donâ€™t wait until it is too late.Â Click Here Â Â for more information.\\n \\n\\n\\nClick here for more information \\n \\nThe sane alternative to Facebook \\nSeen.Life-The Facebook alternative- no censorship, no spyingâ€“ Sign up here \\n\\n \\n \\n \\n\\n \\n \\nFAKE'\n",
      " '14 Days to Do 14 Things, If Hillary’s Indicted-Extreme Violence Expected\\n\\n \\nUPDATE: HILLARY CLINTON IS AGAIN UNDER INVESTIGATION BY THE FBI. IF SHE IS INDICTED, HER PEOPLE WILL UNDOUBTEDLY LAUNCH A CYBER ATTACK ON THE ELECTIONS AND BLAME THE RUSSIANS. HILLARY HAS TIPPED HER HAND MANY TIMES. IF THIS HAPPENS, YOU MUST HASTEN YOUR PREPARATIONS. IF HILLARY SKATES, AGAIN, WE STILL ONLY HAVE A SHORT WINDOW TO ALL HELL BREAKING LOOSE. PLEASE PREPARE NOW! \\nThe Common Sense Show issued an alert yesterday with regard to the likelihood of widespread violence, regardless of who wins the election. The violence may not be dramatic on November, but I believe that a crescendo will be reached by the holidays. There are literally dozens of troop movements and a number of martial law events taking place as I write these words. The bottom line is, half of the country hates the other half of the country and pressure valve is ready to blow. And if Trump wins, the violence factor will escalate exponentially as evidenced by the firebombed GOP building in North Carolina.\\nWhen these events come to fruition, it could potentially paralyze this nation and bring the economy to a standstill. Subsequently, the grocery store shelves could be empty within two days and food riots would likely commence by sundown of the second day. All Americans would instantly be in danger. Local law enforcement would be overwhelmed. What would be your chances of survival? Yesterday, I wrote about the fact that FEMA has conducted research studies on America’s level of preparedness and the news is not good. FEMA concluded that 72% of all Americans are not prepared to survive what is coming In other words, when society begins to fragment, you and your fellow preppers are outnumbered by a 3 to 1 margin.\\nAre you prepared for 3 out of 4 of your neighbors climbing through your windows in search of life-saving supplies?\\nThe FEMA Preparedness Reports In response to concerns about strengthening the nation’s ability to protect its population and way of life (i.e., security) and ability to adapt and recover from emergencies (i.e., resilience), the President of the United States issued Presidential Policy Directive 8: National Preparedness (PPD-8).\\nPPD-8 is a directive for the Department of Homeland Security to coordinate a comprehensive campaign to encourage Americans to practice national preparedness. Despite efforts by FEMA and other organizations to educate American citizens on becoming prepared, growth in specific preparedness behaviors has been limited. Government programs to this end are nearly nonexistent.\\nI have spent the past week illustrating how a coming economic collapse is unavoidable and how the elite have conspired to steal as many of your assets as possible prior to the collapse. This article presents some common sense things one can do which could increase the chances of surviving a major societal meltdown resulting from an economic collapse. If you have any doubts as to what is coming, I strongly encourage you to read what I have written about on this topic over the past several months. Even Ray Charles could see that our economy will not be around much longer in its present form.\\nIt is always best to prepare for the worst and hope for the best. For the purposes of this article, it is possible that society will not totally collapse even if the dollar does. However, large segments of societies always collapse when an economic collapse happens. Surviving the worst case scenario is the purpose behind what will be covered here.\\nWe have about 14 days to do the following 14 things: 1. The Creation of a Pseudo-Identity It may be necessary to become invisible in the event you think you believe that your name could be on a (Red) list because roundups will usually occur in dire situations. Therefore, the creation of a pseudo-identity could become very important.\\n2. It Takes Money to Prepare If you have read the articles at the above links, you should have concluded that it is the height of stupidity to leave your life savings in an institution that is planning to steal from you. You need to divert your cash, other than the ability to pay basic bills, in preparation for what is coming.\\nGetting your money out of the bank has become an art form and you need to be careful. There is a barrier to your ability to procure some of these life-saving and life-extending supplies. Right now, you do not have full access to your money.\\nAs you move to withdraw the bulk of your money, there are three federal banking laws that you should be cognizant of, namely, Cash Transaction Report (CTR), a Suspicious Activity Report (SAR) and structuring.\\nCash Transaction Reports Federal law requires that the bank file a report based upon any withdrawal or deposit of $10,000 or more on any single given day.The law was designed to put a damper on money laundering, sophisticated counterfeiting and other federal crimes.\\nTo remain in compliance with the law, financial institutions must obtain personal identification, information about the transaction and the social security number of the person conducting the transaction.\\nBefore proceeding with the planned withdrawal of your money, I would strongly suggest that you read the following federal guidelines as it relates to CTR’s as produced by the The Financial Crimes Enforcement Network (FinCEN). All the federal regulations contained in this article are elucidated in this series of federal reports.\\nStructuring and SAR There will undoubtedly be some geniuses whose math ability will tell them that all they have to do is to withdraw $9,999.99 and the bank and its protector, the federal government will be none the wiser. It is not quite that simple. The bank is required to file a Suspicious Activity Report (SAR) which serves to notify the federal government of an individual’s attempt to structure deposits or withdrawals by circumventing the $10,000 reporting requirement.\\nStructuring transactions to prevent a CTR from being reported can result in imprisonment for not more than five years and/or a fine of up to $250,000. If structuring involves more than $100,000 in a twelve month period or is performed while violating another law of the federal government, the penalty is doubled. \\nEnforcement Much like the enforcement of our tax laws, the federal government’s enforcement of its banking laws as it relates to CTR’s, SAR’s and subsequent structuring is quite draconian. Civilian asset forfeiture laws come into play. The government can seize your bank accounts while it determines if a crime has been committed. The government can literally seize your assets in perpetuity without an order of the court. Of course, you could try and sue but you will be up against the deep pockets of the federal government and the case could take years. By the time your case is decided, the financial banking crisis that you are so desperately trying to avoid by withdrawing your money, could be over. So, proceed with caution.\\nWithdrawing Your Money From the Bank The best way to avoid getting your money caught in the bank in the midst of a bank run would be to not let the lion’s share of your money ever cross the bank. The simplest way to accomplish this is to prevent any form of deposit from going automatically into your account, as much as it is possible.\\nSecondly, you need to begin to pay cash for everything. Let’s say that every 30 days, Bob cashes his check at the bank from his work worth $5,000 net pay. Bob leaves just enough in the bank to be able to conduct normal banking business. Bob walks out of the bank every month with the majority of the cash from his check. Bob should begin to pay cash for as much as he can, such as eating out, paying the electric bill (pay the bill in person), buying groceries, etc. When it becomes necessary to make a “big ticket” purchase, Bob could temporarily leave more in the bank to cover the writing of a check.\\nYou would also be wise to open multiple banking accounts ranging from the big five megabanks to your local credit unions. You could withdraw much smaller amounts until the sum total of your accounts is greatly diminished and is in your possession. To open the accounts, simply write a personal check from your home bank. Of course, in these cases, the bank could hold the check for 15-30 days.\\nI cannot promise you that if you become the target of federal investigators, that you will not have your every financial move scrutinized and the feds will eventually discover the aggregate patterns of withdrawal. People who I interviewed told me that they believe that the federal government is in the process of getting the banking computers to “talk” to each other in a way that would reveal structuring, but that technology is not yet online.\\nIf you ever become the target of a federal investigation, do not, under any circumstances, allow yourself to be interviewed by federal officials without an attorney present. In many cases, people go to jail and pay huge fines, not because they have committed a federal crime, but because federal officials state that they have lied or misled them. And if you do not have an attorney present, it is your word versus the federal government. There are other sources besides banks that you can tap into for money which can be used to prepare for what is coming.\\n4o1K’s, IRA, et al If you were 100% convinced of an imminent crash, you would be foolish not to take your money out. However, the prepayment penalty of 50% is steep if you withdraw your funds before you are 59.5 years old.\\nIf you are retiring soon, take the lump sum option and convert all of these retirement monies to survival supplies and gold which you will need as the world emerges from the crash.\\nThe moral of the story is to become as liquid as possible, from a cash perspective. Getting access to your money is only the first part of being prepared to survive an economic crash.\\n3. Make a List Buy a good prepper book. Holly Deyo is an excellent source for this information (www.standdeyo.com). In the interim, procure your food, water, guns, ammo and home security adjustments. If you do not have a big dog, consider obtaining a pair. These animals will be your companion, home security system and ally if someone attempts to breach your home with bad intent. Of course, you will have to store dog food as well.\\nSit down and construct a list of what you will need after reading a good prepper book.\\nMake all of you purchases in cash! You do not want to let the wrong people know what you are up to.\\n \\n4. Rural Vs. Urban We have to live our lives for today and it may not be possible to move to a rural area because of your job. However, one survivalist that I was speaking with estimates that the rate of survival for a country in economic chaos would be 10 times higher for rural residents as opposed to urban residents. Consider buying a place in an isolated area and commuting to work in the interim.\\n5. Pay Off Your Mortgage and Car Loans If you have a CD, a 401k or any other long-term investment, you might want to consider taking the penalty and executing a withdrawal and apply what’s left of the principal, usually about 50% of the original value, and paying down your major debts.\\nAfter an economic collapse, you most likely will not have a job and your retirement and savings will likely be wiped out and confiscated. That is why it would be wise to pay down your debt while you can afford to do so because after the collapse, there will still be foreclosures and repossessions and if you and your family survive, you could be on the street if you cannot pay your bills.\\n \\n6. Buy Gold and Silver While You Can Afford It Goldman Sachs has been shorting gold. The elite have been hording gold as have the BRICS. These entities are telling you, by action, what medium of exchange is going to be of value following the collapse that is coming.\\nStoring gold and silver is an economic survival strategy which will pay dividends after the smoke begins to clear in the post-collapse era.\\n\\n \\n7. Practice Austerity Before Austerity Is Imposed On You It is critical to immediately eliminate all unnecessary expenses. Give yourself some operating capital. You may be able to purchase a bug-out residence in a rural area. You will certainly be able to afford more survival gear.\\nIn order to increase your immediate cash flow, start an at-home business. Start a business which has virtually no upfront and startup costs. Even if you are not able to generate much income, you will create a legal tax evasion strategy in which you can legally deduct many of your present activities and expenses (e.g. mileage, the purchase of any office supply, etc.) including survival gear.\\n \\n8. Create and Store Your Own Food With regard to storing food, you need to do so immediately. I recommend storing two years worth of food. However, you need to master the art of growing food inside your home. There are plenty of resources which can teach you how to do that. However, you would be wise if you would create a hiding place in which you can store food and water safely in a hidden location . If you are ever robbed, you will not have exhausted your food supplies. You are most likely to be robbed by FEMA or one of their mercenary groups (e.g. Academia) during the beginning of the crisis because food and water will be used as weapons to control you. I am personally aware of FEMA going to selected homeowners to catalogue their reserve food and water supplies. Remember, water is sunlight and temperature sensitive. There are plenty of prepper manuals that you can consult for instructions on how to meet these needs. The time to do these things is yesterday.\\nThe biggest threat to survival is death due to dehydration and starving to death. Contaminated water will also pose a threat. There are plenty of places to purchase large drums and obtain water tablets for water purification purposes. Obtain a pair of water filters in case you have to go mobile to survive.\\nFinally, learn to grow your own food within your residence. Your garden will likely be raided by humans and hungry animals alike. There are plenty of prepper manuals which can teach you how to accomplish this task.\\n9. Personal Supplies Of course you will need toothpaste, toiletries, eating utensils, feminine hygiene supplies, etc. For a complete list of personal items see Steve Quayles list on his website .\\n \\n10. Horde Medicines and Medical Supplies If you or your family has a chronic health condition, it is critical that you have 6 months to a year in medicine. Also, you should research natural alternatives to treatment for health conditions in case you are not able to meet this goal due to the inability to obtain prescriptions. Don’t forget to obtain some pain medication and antibiotics in case of unforeseen emergencies. Make a trip to Mexico and sneak across medication in old pill bottles in order to escape detection by the Border Patrol who will ask you if you obtained medication in Mexico when you come back across the border.\\nIf you can safely ration your existing medication doses, do so and store the excesses. Make sure you also have a first aid kit. Take a First Aid class including CPR at your local fire station.\\nSome are thinking that this is a lot of work. My response would be, how bad do you want you and your family to survive?\\n11. Guns and Ammunition Regardless of your moral convictions, ask yourself if you want your family to survive.\\nBuy your guns off the books from private parties and at gun shows. “Keep guns for show and guns for go”. In other words, have a safe location that you can bury guns so that when gun confiscation begins, you will not be left totally defenseless.\\nAmerica needs to not only create safe and secure homes, but to create as many Warsaw ghettos as possible (look it up). We need to make ourselves a hard country to conquer and occupy. We cannot stop a treasonous leader from handing off the country to some foreign entity (e.g. the UN). However, occupation of America should be problematic for the blue-helmet wearing Russians, Chinese and other proxy forces training on our soil to occupy us.\\nIt is recommended that you have 3 types of weapons: (1) pistols for close in fighting; (2) shotguns for defense of the entrance to your home; and, (3) a rifle with a scope in order to fight back against long-range snipers that do not want to storm your home because you appear to be prepared. Immediately, obtain weapons instruction for you and your family, firearms training and then practice! Conduct mock raids on your residence so that you can see your vulnerabilities. An armed populace makes a people more feared by an abusive government.\\nDo not forget about gas masks for each member of your family and make sure to store extras. If you have the means to obtain body armor, do so now, because Congress is preparing to outlaw the private use of body armor.\\n \\n12. Prepare to Survive in the Raw Elements and Build a Way of Life \\nIt is possible that you can learn to survive in the raw elements without heating and central air conditioning. You may not have lights. Obtain flashlights, many batteries and a hand crank radio.\\nMake sure you have clothes befitting all weather that you may encounter because a crisis that begins in January, may not be over by August.\\nTake a weekend and pretend the grid is down. This will allow you to see firsthand what supplies you will need. When should you perform this drill? There is no time like the present.\\nTo people with generators, congratulations on your foresight. However, if you are the only house on the block with lights, how long do you think it will be until you have unwanted visitors with bad intent?\\nGet in shape, begin to walk, jog or run. The better shape you are in, the better.\\nDon’t forget about procuring non-electronic forms of entertainment. This should include board games and educational materials for your children. You will want to establish some normalcy for the sake of your children. You are preparing to adopt a new way of life. Make the new life worth living.\\nI would also recommend that every personal library contain The Constitution of the United States. After the chaos subsides, we will need to rebuild. You will not want to live in a “might makes right” society.\\n13. For Goodness Sake, Do Not Tell Anyone If your four adjacent neighbors broach the topic of preparedness, gauge the situation and then make an informed decision. If your neighbors are on board with preparing, that will help you form a defensive perimeter and a mutual alliance pact. Otherwise, tell nobody of your preparation plans. Do not tell your friends, family members, and co-workers. Make your preparations in cash or cashier’s checks as much as possible. Limit the paper trail to you. You do not want the government to know that you are prepared because you could be the first one on your block that is visited at 3AM. You and your mate should prepare in stealth. Kids talk and so do their friends.\\n14. PRAY! Survival is never guaranteed, salvation is! And do not forget one of your most important resources, your Bible. In a post-collapse America, it is likely that a religion will be forced upon the survivors and that religion will not be Christianity.\\nConclusion In an upside-down world in which the banks legally own your money, getting your money away from these criminal banks has become an art form. I cannot promise you that you will be able to retrieve all of your assets. However, I can promise you that if you do not act, you will lose everything and you will lack needed supplies to weather what is coming.\\nI would strongly suggest that you keep your gas tank filled and you have plenty of cash, food and ammunition on hand. It is better to be safe than sorry.\\n \\nBreaking News: FBI Investigation Reopens The elite may be pulling their support for Hillary. She is, again, under investigation by the FBI. IF her plug is pulled, the violence may come sooner than we anticipated- Get to work America, we do not have long.\\nDONATE TO THE COMMON SENSE SHOW Don’t wait for the collapse of the dollar because it will be too late.\\nFAKE'\n",
      " ...\n",
      " \"Veterans help veterans cope with PTSD through decorated Marine’s New York-based nonprofit Headstrong Project‹ › Arnaldo Rodgers is a trained and educated Psychologist. He has worked as a community organizer and activist. Veterans help veterans cope with PTSD through decorated Marine’s New York-based nonprofit Headstrong Project By Arnaldo Rodgers on November 7, 2016 PTSD \\nBY Larry Mcshane \\nTwo years after serving two tours in Iraq, Army veteran Dustin Shryock started feeling something was wrong — and he didn’t know how to make it right. \\n“Anxiety attacks that would pop up for no reason,” he recalls of the problems that surfaced out of the blue in 2010. “I’d be sitting on the couch, doing nothing. You can just imagine a normal anxiety attack, like a public speaking engagement. \\n“And a tiny little thing like that, over time, over and over, became debilitating.” \\nA fellow veteran pulled him aside with a solution: The Headstrong Project, a group founded four years ago by combat-decorated Marine Corps officer Zach Iscol to assist his fellow American fighters scarred by invisible wounds. \\nRead the Full Article at www.nydailynews.com >>>> Related Posts: No Related Posts The views expressed herein are the views of the author exclusively and not necessarily the views of VNN, VNN authors, affiliates, advertisers, sponsors, partners, technicians or the   and its assigns. Notices Posted by Arnaldo Rodgers on November 7, 2016, With 0 Reads, Filed under PTSD , Veterans . You can follow any responses to this entry through the RSS 2.0 . You can leave a response or trackback to this entry FaceBook Comments \\nYou must be logged in to post a comment Login WHAT'S HOTFAKE\"\n",
      " \"“Honor Our Immigrant Veterans” Replayed‹ › Arnaldo Rodgers is a trained and educated Psychologist. He has worked as a community organizer and activist. “Honor Our Immigrant Veterans” Replayed By Arnaldo Rodgers on November 8, 2016 Veterans By elizawhig \\n“Honor Our Immigrant Veterans” from VoteVets is a video on Youtube I tripped over recently, and have watched several times. It is that good. Another Kossack may have already posted it, but I would like to get it some play. Not because I think it will change any voter’s mind, but because it deserves to be seen to remind us of who we are as Americans. We are all immigrants or the children of immigrants, and we and our relatives and grandparents have had to make tough choices that deserve to be remembered. \\nI had an uncle (by marriage) who was Italian. In 1940 he was still not a US citizen, although I gather he had begun the process, so he was sent to an internment camp in Wyoming (or Montana?). While he waited for his citizenship application to be completed, he and his fellow detainees played a lot of poker. His papers were finally processed, he was made a US Citizen, then was promptly drafted into the US Army as a Sargent (Supply). And of course he was sent to…Italy. His division survived Anzio, then my uncle came into his glory. His father was someone of importance further north, so he had connections. He was able to secure excellent billets (in a castle) and good food and drink for his comrades. \\nRead the Full Article at www.dailykos.com >>>> \\nRelated Posts: No Related Posts The views expressed herein are the views of the author exclusively and not necessarily the views of VNN, VNN authors, affiliates, advertisers, sponsors, partners, technicians or the Veterans Today Network and its assigns. Notices Posted by Arnaldo Rodgers on November 8, 2016, With 0 Reads, Filed under Veterans . You can follow any responses to this entry through the RSS 2.0 . You can leave a response or trackback to this entry FaceBook Comments \\nYou must be logged in to post a comment Login WHAT'S HOTFAKE\"\n",
      " \"Rep. Gowdy on the impact of the FBI’s new Clinton inquiry‹ › Debbie Menon is an independent writer based in Dubai. She is Editor-in-Chief of VeteransNewsNow.com Her main focus are the US-Mid-East Conflicts. Her writing has been featured in several print and online publications in the Middle East. She is committed to exposing (AIPAC) the Israel Lobby's control of American policy for the Middle East. Control which amounts to treason by the Zionist Lobbies in America and its stooges in Congress, and that guarantees there can never be a peaceful resolution of the Middle East conflicts, only catastrophe for all, in the region and the world. Her focus is Israel’s drift towards greater oppression of the Palestinian people; the political deceptions and crisis in Syria and Ukraine; the cold hard facts about America’s so-called ‘war on terror’ and grim future; countering the propaganda war towards Iran & Russia and calling attention to, the new, developing, promising, strategic alliances as a consequence. Her mission is to inform and educate the public on issues of the US/Middle East conflicts that are unreported, underreported, or distorted in the Zionist owned American Media. Her writing reflects the incredible resilience, almost superhuman steadfastness of the occupied and oppressed Palestinians, who are now facing the prospect of a final round of ethnic cleansing. Her mission is to inform and educate internet viewers seeking unfiltered information about real events on issues of the US/Middle East conflicts that are unreported, underreported, or distorted in the American media. Her purpose is to look at the current reality from a different and critical perspective, not to simply rehash the pro-US/Israel perspective, smoke and mirrors that has been allowed to utterly and completely dominate Mainstream discourse. PS: For those of her detractors that think she is being selective and even “one sided,” tough, that is the point of her work, to present an alternative view and interpretation of the US-Israel-Middle East conflict, that has been completely ignored in mainstream discourse and denied the US public. Oh, and she is not Muslim or Palestinian and not married to one either! She is practicing Roman catholic. Rep. Gowdy on the impact of the FBI’s new Clinton inquiry By Debbie Menon on October 31, 2016 BRAVO! Rep. Gowdy. Senator Trey Gowdy is an American attorney, politician and former prosecutor. He currently serves as the U.S. Representative for South Carolina’s 4th congressional district. \\nSenator Trey Gowdy is right, timing is consequence of decisions Hillary made period. Jim Comey’s obligation is to the public. \\nSenator (Harry) Reid is simply “just another” one of the political hacks who populate that massive brothel we call Capitol Hill. Senator Reid and others are aware of the treasonous and criminal nature of the Clintons. \\nHillary Clinton is probably guilty of many things which have not surfaced as openly or as clearly, so lets not scapegoat Huma Abedine and her husband. Hillary is obviously guilty as sin of malfeasance of office and negligence, for the very fact that she exposed her country’s secrets to hackers, knowingly using a private server to conduct State Department business with the outside world and should be called to account for it. Period. \\nIt is people like Bill & Hillary who have become to Big to Fall and the basic problems and causes of the fundamental failures in US Government. Two of the major rotten apples in the barrel, and these are probably two of the most obvious who should be prosecuted not only as examples to the others, but for delivery of the justice which they have earned… and which the citizens of America deserve! \\nInstead of rewarding them by returning them to the Oval office, they should be investigated, and they should be held accountable. Americans can live in a State of Law and Justice, or a State of suppression, injustice, corruption and subjugation to powerful politicians. It is their choice! \\nPublished on Oct 30, 2016 Chairman of the House Select Committee on Benghazi, Rep. Gowdy, weighs in on ‘Special Report’FAKE\"]\n"
     ]
    }
   ],
   "source": [
    "print(X)"
   ]
  },
  {
   "cell_type": "code",
   "execution_count": 67,
   "id": "407e58fd",
   "metadata": {},
   "outputs": [
    {
     "name": "stdout",
     "output_type": "stream",
     "text": [
      "[420 420 420 ... 420 420 420]\n",
      "[420 420 420 ... 420 420 420]\n"
     ]
    }
   ],
   "source": [
    "print(Y)"
   ]
  },
  {
   "cell_type": "code",
   "execution_count": 68,
   "id": "1ba7de24",
   "metadata": {},
   "outputs": [],
   "source": [
    "#converting the text to numerical data a comp can understadn\n",
    "vectorizer=TfidfVectorizer()\n",
    "vectorizer.fit(X)\n",
    "    \n",
    "X=vectorizer.transform(X)"
   ]
  },
  {
   "cell_type": "markdown",
   "id": "b2ddbd57",
   "metadata": {},
   "source": [
    "Splitting the dataset"
   ]
  },
  {
   "cell_type": "code",
   "execution_count": 69,
   "id": "db517109",
   "metadata": {},
   "outputs": [],
   "source": [
    "X_train,X_test,Y_train, Y_test= train_test_split(X,Y, test_size=0.2,random_state=2)"
   ]
  },
  {
   "cell_type": "code",
   "execution_count": null,
   "id": "0d69a9d7",
   "metadata": {},
   "outputs": [],
   "source": []
  },
  {
   "cell_type": "code",
   "execution_count": null,
   "id": "ec871416",
   "metadata": {},
   "outputs": [],
   "source": []
  },
  {
   "cell_type": "code",
   "execution_count": 70,
   "id": "977e7b9b",
   "metadata": {},
   "outputs": [],
   "source": [
    "from sklearn.metrics import confusion_matrix\n",
    "from sklearn.metrics import classification_report\n"
   ]
  },
  {
   "cell_type": "code",
   "execution_count": null,
   "id": "f68b375f",
   "metadata": {},
   "outputs": [],
   "source": []
  },
  {
   "cell_type": "markdown",
   "id": "03997b04",
   "metadata": {},
   "source": [
    "# Random Forest Classifier"
   ]
  },
  {
   "cell_type": "code",
   "execution_count": 71,
   "id": "f136047d",
   "metadata": {},
   "outputs": [],
   "source": [
    "from sklearn.ensemble import RandomForestClassifier\n",
    "model=RandomForestClassifier(n_estimators=10,criterion='entropy')"
   ]
  },
  {
   "cell_type": "code",
   "execution_count": 72,
   "id": "4ca1cb32",
   "metadata": {},
   "outputs": [
    {
     "data": {
      "text/html": [
       "<style>#sk-container-id-3 {color: black;background-color: white;}#sk-container-id-3 pre{padding: 0;}#sk-container-id-3 div.sk-toggleable {background-color: white;}#sk-container-id-3 label.sk-toggleable__label {cursor: pointer;display: block;width: 100%;margin-bottom: 0;padding: 0.3em;box-sizing: border-box;text-align: center;}#sk-container-id-3 label.sk-toggleable__label-arrow:before {content: \"▸\";float: left;margin-right: 0.25em;color: #696969;}#sk-container-id-3 label.sk-toggleable__label-arrow:hover:before {color: black;}#sk-container-id-3 div.sk-estimator:hover label.sk-toggleable__label-arrow:before {color: black;}#sk-container-id-3 div.sk-toggleable__content {max-height: 0;max-width: 0;overflow: hidden;text-align: left;background-color: #f0f8ff;}#sk-container-id-3 div.sk-toggleable__content pre {margin: 0.2em;color: black;border-radius: 0.25em;background-color: #f0f8ff;}#sk-container-id-3 input.sk-toggleable__control:checked~div.sk-toggleable__content {max-height: 200px;max-width: 100%;overflow: auto;}#sk-container-id-3 input.sk-toggleable__control:checked~label.sk-toggleable__label-arrow:before {content: \"▾\";}#sk-container-id-3 div.sk-estimator input.sk-toggleable__control:checked~label.sk-toggleable__label {background-color: #d4ebff;}#sk-container-id-3 div.sk-label input.sk-toggleable__control:checked~label.sk-toggleable__label {background-color: #d4ebff;}#sk-container-id-3 input.sk-hidden--visually {border: 0;clip: rect(1px 1px 1px 1px);clip: rect(1px, 1px, 1px, 1px);height: 1px;margin: -1px;overflow: hidden;padding: 0;position: absolute;width: 1px;}#sk-container-id-3 div.sk-estimator {font-family: monospace;background-color: #f0f8ff;border: 1px dotted black;border-radius: 0.25em;box-sizing: border-box;margin-bottom: 0.5em;}#sk-container-id-3 div.sk-estimator:hover {background-color: #d4ebff;}#sk-container-id-3 div.sk-parallel-item::after {content: \"\";width: 100%;border-bottom: 1px solid gray;flex-grow: 1;}#sk-container-id-3 div.sk-label:hover label.sk-toggleable__label {background-color: #d4ebff;}#sk-container-id-3 div.sk-serial::before {content: \"\";position: absolute;border-left: 1px solid gray;box-sizing: border-box;top: 0;bottom: 0;left: 50%;z-index: 0;}#sk-container-id-3 div.sk-serial {display: flex;flex-direction: column;align-items: center;background-color: white;padding-right: 0.2em;padding-left: 0.2em;position: relative;}#sk-container-id-3 div.sk-item {position: relative;z-index: 1;}#sk-container-id-3 div.sk-parallel {display: flex;align-items: stretch;justify-content: center;background-color: white;position: relative;}#sk-container-id-3 div.sk-item::before, #sk-container-id-3 div.sk-parallel-item::before {content: \"\";position: absolute;border-left: 1px solid gray;box-sizing: border-box;top: 0;bottom: 0;left: 50%;z-index: -1;}#sk-container-id-3 div.sk-parallel-item {display: flex;flex-direction: column;z-index: 1;position: relative;background-color: white;}#sk-container-id-3 div.sk-parallel-item:first-child::after {align-self: flex-end;width: 50%;}#sk-container-id-3 div.sk-parallel-item:last-child::after {align-self: flex-start;width: 50%;}#sk-container-id-3 div.sk-parallel-item:only-child::after {width: 0;}#sk-container-id-3 div.sk-dashed-wrapped {border: 1px dashed gray;margin: 0 0.4em 0.5em 0.4em;box-sizing: border-box;padding-bottom: 0.4em;background-color: white;}#sk-container-id-3 div.sk-label label {font-family: monospace;font-weight: bold;display: inline-block;line-height: 1.2em;}#sk-container-id-3 div.sk-label-container {text-align: center;}#sk-container-id-3 div.sk-container {/* jupyter's `normalize.less` sets `[hidden] { display: none; }` but bootstrap.min.css set `[hidden] { display: none !important; }` so we also need the `!important` here to be able to override the default hidden behavior on the sphinx rendered scikit-learn.org. See: https://github.com/scikit-learn/scikit-learn/issues/21755 */display: inline-block !important;position: relative;}#sk-container-id-3 div.sk-text-repr-fallback {display: none;}</style><div id=\"sk-container-id-3\" class=\"sk-top-container\"><div class=\"sk-text-repr-fallback\"><pre>RandomForestClassifier(criterion=&#x27;entropy&#x27;, n_estimators=10)</pre><b>In a Jupyter environment, please rerun this cell to show the HTML representation or trust the notebook. <br />On GitHub, the HTML representation is unable to render, please try loading this page with nbviewer.org.</b></div><div class=\"sk-container\" hidden><div class=\"sk-item\"><div class=\"sk-estimator sk-toggleable\"><input class=\"sk-toggleable__control sk-hidden--visually\" id=\"sk-estimator-id-3\" type=\"checkbox\" checked><label for=\"sk-estimator-id-3\" class=\"sk-toggleable__label sk-toggleable__label-arrow\">RandomForestClassifier</label><div class=\"sk-toggleable__content\"><pre>RandomForestClassifier(criterion=&#x27;entropy&#x27;, n_estimators=10)</pre></div></div></div></div></div>"
      ],
      "text/plain": [
       "RandomForestClassifier(criterion='entropy', n_estimators=10)"
      ]
     },
     "execution_count": 72,
     "metadata": {},
     "output_type": "execute_result"
    },
    {
     "data": {
      "text/html": [
       "<style>#sk-container-id-3 {color: black;background-color: white;}#sk-container-id-3 pre{padding: 0;}#sk-container-id-3 div.sk-toggleable {background-color: white;}#sk-container-id-3 label.sk-toggleable__label {cursor: pointer;display: block;width: 100%;margin-bottom: 0;padding: 0.3em;box-sizing: border-box;text-align: center;}#sk-container-id-3 label.sk-toggleable__label-arrow:before {content: \"▸\";float: left;margin-right: 0.25em;color: #696969;}#sk-container-id-3 label.sk-toggleable__label-arrow:hover:before {color: black;}#sk-container-id-3 div.sk-estimator:hover label.sk-toggleable__label-arrow:before {color: black;}#sk-container-id-3 div.sk-toggleable__content {max-height: 0;max-width: 0;overflow: hidden;text-align: left;background-color: #f0f8ff;}#sk-container-id-3 div.sk-toggleable__content pre {margin: 0.2em;color: black;border-radius: 0.25em;background-color: #f0f8ff;}#sk-container-id-3 input.sk-toggleable__control:checked~div.sk-toggleable__content {max-height: 200px;max-width: 100%;overflow: auto;}#sk-container-id-3 input.sk-toggleable__control:checked~label.sk-toggleable__label-arrow:before {content: \"▾\";}#sk-container-id-3 div.sk-estimator input.sk-toggleable__control:checked~label.sk-toggleable__label {background-color: #d4ebff;}#sk-container-id-3 div.sk-label input.sk-toggleable__control:checked~label.sk-toggleable__label {background-color: #d4ebff;}#sk-container-id-3 input.sk-hidden--visually {border: 0;clip: rect(1px 1px 1px 1px);clip: rect(1px, 1px, 1px, 1px);height: 1px;margin: -1px;overflow: hidden;padding: 0;position: absolute;width: 1px;}#sk-container-id-3 div.sk-estimator {font-family: monospace;background-color: #f0f8ff;border: 1px dotted black;border-radius: 0.25em;box-sizing: border-box;margin-bottom: 0.5em;}#sk-container-id-3 div.sk-estimator:hover {background-color: #d4ebff;}#sk-container-id-3 div.sk-parallel-item::after {content: \"\";width: 100%;border-bottom: 1px solid gray;flex-grow: 1;}#sk-container-id-3 div.sk-label:hover label.sk-toggleable__label {background-color: #d4ebff;}#sk-container-id-3 div.sk-serial::before {content: \"\";position: absolute;border-left: 1px solid gray;box-sizing: border-box;top: 0;bottom: 0;left: 50%;z-index: 0;}#sk-container-id-3 div.sk-serial {display: flex;flex-direction: column;align-items: center;background-color: white;padding-right: 0.2em;padding-left: 0.2em;position: relative;}#sk-container-id-3 div.sk-item {position: relative;z-index: 1;}#sk-container-id-3 div.sk-parallel {display: flex;align-items: stretch;justify-content: center;background-color: white;position: relative;}#sk-container-id-3 div.sk-item::before, #sk-container-id-3 div.sk-parallel-item::before {content: \"\";position: absolute;border-left: 1px solid gray;box-sizing: border-box;top: 0;bottom: 0;left: 50%;z-index: -1;}#sk-container-id-3 div.sk-parallel-item {display: flex;flex-direction: column;z-index: 1;position: relative;background-color: white;}#sk-container-id-3 div.sk-parallel-item:first-child::after {align-self: flex-end;width: 50%;}#sk-container-id-3 div.sk-parallel-item:last-child::after {align-self: flex-start;width: 50%;}#sk-container-id-3 div.sk-parallel-item:only-child::after {width: 0;}#sk-container-id-3 div.sk-dashed-wrapped {border: 1px dashed gray;margin: 0 0.4em 0.5em 0.4em;box-sizing: border-box;padding-bottom: 0.4em;background-color: white;}#sk-container-id-3 div.sk-label label {font-family: monospace;font-weight: bold;display: inline-block;line-height: 1.2em;}#sk-container-id-3 div.sk-label-container {text-align: center;}#sk-container-id-3 div.sk-container {/* jupyter's `normalize.less` sets `[hidden] { display: none; }` but bootstrap.min.css set `[hidden] { display: none !important; }` so we also need the `!important` here to be able to override the default hidden behavior on the sphinx rendered scikit-learn.org. See: https://github.com/scikit-learn/scikit-learn/issues/21755 */display: inline-block !important;position: relative;}#sk-container-id-3 div.sk-text-repr-fallback {display: none;}</style><div id=\"sk-container-id-3\" class=\"sk-top-container\"><div class=\"sk-text-repr-fallback\"><pre>RandomForestClassifier(criterion=&#x27;entropy&#x27;, n_estimators=10)</pre><b>In a Jupyter environment, please rerun this cell to show the HTML representation or trust the notebook. <br />On GitHub, the HTML representation is unable to render, please try loading this page with nbviewer.org.</b></div><div class=\"sk-container\" hidden><div class=\"sk-item\"><div class=\"sk-estimator sk-toggleable\"><input class=\"sk-toggleable__control sk-hidden--visually\" id=\"sk-estimator-id-3\" type=\"checkbox\" checked><label for=\"sk-estimator-id-3\" class=\"sk-toggleable__label sk-toggleable__label-arrow\">RandomForestClassifier</label><div class=\"sk-toggleable__content\"><pre>RandomForestClassifier(criterion=&#x27;entropy&#x27;, n_estimators=10)</pre></div></div></div></div></div>"
      ],
      "text/plain": [
       "RandomForestClassifier(criterion='entropy', n_estimators=10)"
      ]
     },
     "execution_count": 72,
     "metadata": {},
     "output_type": "execute_result"
    }
   ],
   "source": [
    "model.fit(X_train, Y_train)"
   ]
  },
  {
   "cell_type": "code",
   "execution_count": 73,
   "id": "e15eb920",
   "metadata": {},
   "outputs": [],
   "source": [
    "X_train_prediction=model.predict(X_train)\n",
    "training_data_accuracy=accuracy_score(X_train_prediction, Y_train)"
   ]
  },
  {
   "cell_type": "code",
   "execution_count": 74,
   "id": "1a4e7761",
   "metadata": {},
   "outputs": [],
   "source": [
    "X_test_prediction=model.predict(X_test)\n",
    "test_data_accuracy=accuracy_score(X_test_prediction, Y_test)"
   ]
  },
  {
   "cell_type": "code",
   "execution_count": 75,
   "id": "c6435990",
   "metadata": {},
   "outputs": [
    {
     "name": "stdout",
     "output_type": "stream",
     "text": [
      "Accuracy of training data : 99.562 %\n",
      "Accuracy of testing data : 76.027 %\n",
      "Accuracy of training data : 99.562 %\n",
      "Accuracy of testing data : 76.027 %\n"
     ]
    }
   ],
   "source": [
    "a=(training_data_accuracy*100)\n",
    "b=(test_data_accuracy*100)\n",
    "a=str(round(a,3))\n",
    "b=str(round(b,3))\n",
    "print('Accuracy of training data :',a,'%')\n",
    "print('Accuracy of testing data :',b, '%')"
   ]
  },
  {
   "cell_type": "code",
   "execution_count": 76,
   "id": "c757235b",
   "metadata": {},
   "outputs": [
    {
     "name": "stdout",
     "output_type": "stream",
     "text": [
      "[420]\n",
      "The news is Fake\n",
      "[420]\n",
      "The news is Fake\n"
     ]
    }
   ],
   "source": [
    "#Pedicting the values\n",
    "X_new = X_test[53]\n",
    "\n",
    "prediction = model.predict(X_new)\n",
    "print(prediction)\n",
    "\n",
    "if (prediction[0]==0):\n",
    "  print('The news is Real')\n",
    "else:\n",
    "  print('The news is Fake')"
   ]
  },
  {
   "cell_type": "code",
   "execution_count": 77,
   "id": "cb1a8a0e",
   "metadata": {},
   "outputs": [
    {
     "name": "stdout",
     "output_type": "stream",
     "text": [
      "420\n",
      "420\n"
     ]
    }
   ],
   "source": [
    "print(Y_test[53])"
   ]
  },
  {
   "cell_type": "markdown",
   "id": "fe16d3ae",
   "metadata": {},
   "source": [
    "# Decision Tree Classifier"
   ]
  },
  {
   "cell_type": "code",
   "execution_count": 78,
   "id": "addab459",
   "metadata": {},
   "outputs": [
    {
     "data": {
      "text/html": [
       "<style>#sk-container-id-4 {color: black;background-color: white;}#sk-container-id-4 pre{padding: 0;}#sk-container-id-4 div.sk-toggleable {background-color: white;}#sk-container-id-4 label.sk-toggleable__label {cursor: pointer;display: block;width: 100%;margin-bottom: 0;padding: 0.3em;box-sizing: border-box;text-align: center;}#sk-container-id-4 label.sk-toggleable__label-arrow:before {content: \"▸\";float: left;margin-right: 0.25em;color: #696969;}#sk-container-id-4 label.sk-toggleable__label-arrow:hover:before {color: black;}#sk-container-id-4 div.sk-estimator:hover label.sk-toggleable__label-arrow:before {color: black;}#sk-container-id-4 div.sk-toggleable__content {max-height: 0;max-width: 0;overflow: hidden;text-align: left;background-color: #f0f8ff;}#sk-container-id-4 div.sk-toggleable__content pre {margin: 0.2em;color: black;border-radius: 0.25em;background-color: #f0f8ff;}#sk-container-id-4 input.sk-toggleable__control:checked~div.sk-toggleable__content {max-height: 200px;max-width: 100%;overflow: auto;}#sk-container-id-4 input.sk-toggleable__control:checked~label.sk-toggleable__label-arrow:before {content: \"▾\";}#sk-container-id-4 div.sk-estimator input.sk-toggleable__control:checked~label.sk-toggleable__label {background-color: #d4ebff;}#sk-container-id-4 div.sk-label input.sk-toggleable__control:checked~label.sk-toggleable__label {background-color: #d4ebff;}#sk-container-id-4 input.sk-hidden--visually {border: 0;clip: rect(1px 1px 1px 1px);clip: rect(1px, 1px, 1px, 1px);height: 1px;margin: -1px;overflow: hidden;padding: 0;position: absolute;width: 1px;}#sk-container-id-4 div.sk-estimator {font-family: monospace;background-color: #f0f8ff;border: 1px dotted black;border-radius: 0.25em;box-sizing: border-box;margin-bottom: 0.5em;}#sk-container-id-4 div.sk-estimator:hover {background-color: #d4ebff;}#sk-container-id-4 div.sk-parallel-item::after {content: \"\";width: 100%;border-bottom: 1px solid gray;flex-grow: 1;}#sk-container-id-4 div.sk-label:hover label.sk-toggleable__label {background-color: #d4ebff;}#sk-container-id-4 div.sk-serial::before {content: \"\";position: absolute;border-left: 1px solid gray;box-sizing: border-box;top: 0;bottom: 0;left: 50%;z-index: 0;}#sk-container-id-4 div.sk-serial {display: flex;flex-direction: column;align-items: center;background-color: white;padding-right: 0.2em;padding-left: 0.2em;position: relative;}#sk-container-id-4 div.sk-item {position: relative;z-index: 1;}#sk-container-id-4 div.sk-parallel {display: flex;align-items: stretch;justify-content: center;background-color: white;position: relative;}#sk-container-id-4 div.sk-item::before, #sk-container-id-4 div.sk-parallel-item::before {content: \"\";position: absolute;border-left: 1px solid gray;box-sizing: border-box;top: 0;bottom: 0;left: 50%;z-index: -1;}#sk-container-id-4 div.sk-parallel-item {display: flex;flex-direction: column;z-index: 1;position: relative;background-color: white;}#sk-container-id-4 div.sk-parallel-item:first-child::after {align-self: flex-end;width: 50%;}#sk-container-id-4 div.sk-parallel-item:last-child::after {align-self: flex-start;width: 50%;}#sk-container-id-4 div.sk-parallel-item:only-child::after {width: 0;}#sk-container-id-4 div.sk-dashed-wrapped {border: 1px dashed gray;margin: 0 0.4em 0.5em 0.4em;box-sizing: border-box;padding-bottom: 0.4em;background-color: white;}#sk-container-id-4 div.sk-label label {font-family: monospace;font-weight: bold;display: inline-block;line-height: 1.2em;}#sk-container-id-4 div.sk-label-container {text-align: center;}#sk-container-id-4 div.sk-container {/* jupyter's `normalize.less` sets `[hidden] { display: none; }` but bootstrap.min.css set `[hidden] { display: none !important; }` so we also need the `!important` here to be able to override the default hidden behavior on the sphinx rendered scikit-learn.org. See: https://github.com/scikit-learn/scikit-learn/issues/21755 */display: inline-block !important;position: relative;}#sk-container-id-4 div.sk-text-repr-fallback {display: none;}</style><div id=\"sk-container-id-4\" class=\"sk-top-container\"><div class=\"sk-text-repr-fallback\"><pre>DecisionTreeClassifier()</pre><b>In a Jupyter environment, please rerun this cell to show the HTML representation or trust the notebook. <br />On GitHub, the HTML representation is unable to render, please try loading this page with nbviewer.org.</b></div><div class=\"sk-container\" hidden><div class=\"sk-item\"><div class=\"sk-estimator sk-toggleable\"><input class=\"sk-toggleable__control sk-hidden--visually\" id=\"sk-estimator-id-4\" type=\"checkbox\" checked><label for=\"sk-estimator-id-4\" class=\"sk-toggleable__label sk-toggleable__label-arrow\">DecisionTreeClassifier</label><div class=\"sk-toggleable__content\"><pre>DecisionTreeClassifier()</pre></div></div></div></div></div>"
      ],
      "text/plain": [
       "DecisionTreeClassifier()"
      ]
     },
     "execution_count": 78,
     "metadata": {},
     "output_type": "execute_result"
    },
    {
     "data": {
      "text/html": [
       "<style>#sk-container-id-4 {color: black;background-color: white;}#sk-container-id-4 pre{padding: 0;}#sk-container-id-4 div.sk-toggleable {background-color: white;}#sk-container-id-4 label.sk-toggleable__label {cursor: pointer;display: block;width: 100%;margin-bottom: 0;padding: 0.3em;box-sizing: border-box;text-align: center;}#sk-container-id-4 label.sk-toggleable__label-arrow:before {content: \"▸\";float: left;margin-right: 0.25em;color: #696969;}#sk-container-id-4 label.sk-toggleable__label-arrow:hover:before {color: black;}#sk-container-id-4 div.sk-estimator:hover label.sk-toggleable__label-arrow:before {color: black;}#sk-container-id-4 div.sk-toggleable__content {max-height: 0;max-width: 0;overflow: hidden;text-align: left;background-color: #f0f8ff;}#sk-container-id-4 div.sk-toggleable__content pre {margin: 0.2em;color: black;border-radius: 0.25em;background-color: #f0f8ff;}#sk-container-id-4 input.sk-toggleable__control:checked~div.sk-toggleable__content {max-height: 200px;max-width: 100%;overflow: auto;}#sk-container-id-4 input.sk-toggleable__control:checked~label.sk-toggleable__label-arrow:before {content: \"▾\";}#sk-container-id-4 div.sk-estimator input.sk-toggleable__control:checked~label.sk-toggleable__label {background-color: #d4ebff;}#sk-container-id-4 div.sk-label input.sk-toggleable__control:checked~label.sk-toggleable__label {background-color: #d4ebff;}#sk-container-id-4 input.sk-hidden--visually {border: 0;clip: rect(1px 1px 1px 1px);clip: rect(1px, 1px, 1px, 1px);height: 1px;margin: -1px;overflow: hidden;padding: 0;position: absolute;width: 1px;}#sk-container-id-4 div.sk-estimator {font-family: monospace;background-color: #f0f8ff;border: 1px dotted black;border-radius: 0.25em;box-sizing: border-box;margin-bottom: 0.5em;}#sk-container-id-4 div.sk-estimator:hover {background-color: #d4ebff;}#sk-container-id-4 div.sk-parallel-item::after {content: \"\";width: 100%;border-bottom: 1px solid gray;flex-grow: 1;}#sk-container-id-4 div.sk-label:hover label.sk-toggleable__label {background-color: #d4ebff;}#sk-container-id-4 div.sk-serial::before {content: \"\";position: absolute;border-left: 1px solid gray;box-sizing: border-box;top: 0;bottom: 0;left: 50%;z-index: 0;}#sk-container-id-4 div.sk-serial {display: flex;flex-direction: column;align-items: center;background-color: white;padding-right: 0.2em;padding-left: 0.2em;position: relative;}#sk-container-id-4 div.sk-item {position: relative;z-index: 1;}#sk-container-id-4 div.sk-parallel {display: flex;align-items: stretch;justify-content: center;background-color: white;position: relative;}#sk-container-id-4 div.sk-item::before, #sk-container-id-4 div.sk-parallel-item::before {content: \"\";position: absolute;border-left: 1px solid gray;box-sizing: border-box;top: 0;bottom: 0;left: 50%;z-index: -1;}#sk-container-id-4 div.sk-parallel-item {display: flex;flex-direction: column;z-index: 1;position: relative;background-color: white;}#sk-container-id-4 div.sk-parallel-item:first-child::after {align-self: flex-end;width: 50%;}#sk-container-id-4 div.sk-parallel-item:last-child::after {align-self: flex-start;width: 50%;}#sk-container-id-4 div.sk-parallel-item:only-child::after {width: 0;}#sk-container-id-4 div.sk-dashed-wrapped {border: 1px dashed gray;margin: 0 0.4em 0.5em 0.4em;box-sizing: border-box;padding-bottom: 0.4em;background-color: white;}#sk-container-id-4 div.sk-label label {font-family: monospace;font-weight: bold;display: inline-block;line-height: 1.2em;}#sk-container-id-4 div.sk-label-container {text-align: center;}#sk-container-id-4 div.sk-container {/* jupyter's `normalize.less` sets `[hidden] { display: none; }` but bootstrap.min.css set `[hidden] { display: none !important; }` so we also need the `!important` here to be able to override the default hidden behavior on the sphinx rendered scikit-learn.org. See: https://github.com/scikit-learn/scikit-learn/issues/21755 */display: inline-block !important;position: relative;}#sk-container-id-4 div.sk-text-repr-fallback {display: none;}</style><div id=\"sk-container-id-4\" class=\"sk-top-container\"><div class=\"sk-text-repr-fallback\"><pre>DecisionTreeClassifier()</pre><b>In a Jupyter environment, please rerun this cell to show the HTML representation or trust the notebook. <br />On GitHub, the HTML representation is unable to render, please try loading this page with nbviewer.org.</b></div><div class=\"sk-container\" hidden><div class=\"sk-item\"><div class=\"sk-estimator sk-toggleable\"><input class=\"sk-toggleable__control sk-hidden--visually\" id=\"sk-estimator-id-4\" type=\"checkbox\" checked><label for=\"sk-estimator-id-4\" class=\"sk-toggleable__label sk-toggleable__label-arrow\">DecisionTreeClassifier</label><div class=\"sk-toggleable__content\"><pre>DecisionTreeClassifier()</pre></div></div></div></div></div>"
      ],
      "text/plain": [
       "DecisionTreeClassifier()"
      ]
     },
     "execution_count": 78,
     "metadata": {},
     "output_type": "execute_result"
    }
   ],
   "source": [
    "from sklearn.tree import DecisionTreeClassifier\n",
    "model1= DecisionTreeClassifier()\n",
    "model1.fit(X_train,Y_train)"
   ]
  },
  {
   "cell_type": "code",
   "execution_count": 79,
   "id": "5cbc53d5",
   "metadata": {},
   "outputs": [],
   "source": [
    "X_train_prediction=model1.predict(X_train)\n",
    "training_data_accuracy=accuracy_score(X_train_prediction, Y_train)"
   ]
  },
  {
   "cell_type": "code",
   "execution_count": 80,
   "id": "386b090a",
   "metadata": {},
   "outputs": [],
   "source": [
    "X_test_prediction=model1.predict(X_test)\n",
    "test_data_accuracy=accuracy_score(X_test_prediction, Y_test)"
   ]
  },
  {
   "cell_type": "code",
   "execution_count": 82,
   "id": "6fbc741f",
   "metadata": {},
   "outputs": [
    {
     "name": "stdout",
     "output_type": "stream",
     "text": [
      "Accuracy of training data : 100.0 %\n",
      "Accuracy of testing data : 87.291 %\n",
      "Accuracy of training data : 100.0 %\n",
      "Accuracy of testing data : 87.291 %\n"
     ]
    }
   ],
   "source": [
    "a=(training_data_accuracy*100)\n",
    "b=(test_data_accuracy*100)\n",
    "a=str(round(a,3))\n",
    "b=str(round(b,3))\n",
    "print('Accuracy of training data :',a,'%')\n",
    "print('Accuracy of testing data :',b, '%')"
   ]
  },
  {
   "cell_type": "code",
   "execution_count": 83,
   "id": "370e3f8e",
   "metadata": {},
   "outputs": [
    {
     "name": "stdout",
     "output_type": "stream",
     "text": [
      "[420]\n",
      "The news is Fake\n",
      "[420]\n",
      "The news is Fake\n"
     ]
    }
   ],
   "source": [
    "#Pedicting the values\n",
    "X_new = X_test[45]\n",
    "\n",
    "prediction = model1.predict(X_new)\n",
    "print(prediction)\n",
    "\n",
    "if (prediction[0]==0):\n",
    "  print('The news is Real')\n",
    "else:\n",
    "  print('The news is Fake')"
   ]
  },
  {
   "cell_type": "code",
   "execution_count": 84,
   "id": "0aaf6203",
   "metadata": {},
   "outputs": [
    {
     "name": "stdout",
     "output_type": "stream",
     "text": [
      "420\n",
      "420\n"
     ]
    }
   ],
   "source": [
    "print(Y_test[45])"
   ]
  },
  {
   "cell_type": "markdown",
   "id": "cfbe3221",
   "metadata": {},
   "source": [
    "CONFUSION MATRIX"
   ]
  },
  {
   "cell_type": "code",
   "execution_count": 85,
   "id": "bc174ffb",
   "metadata": {},
   "outputs": [
    {
     "name": "stdout",
     "output_type": "stream",
     "text": [
      "Confusion Matrix :\n",
      " [[7 0 0 ... 1 0 0]\n",
      " [0 0 0 ... 0 0 0]\n",
      " [0 0 0 ... 0 0 0]\n",
      " ...\n",
      " [0 0 0 ... 0 0 0]\n",
      " [0 0 0 ... 0 0 0]\n",
      " [0 0 0 ... 0 0 0]]\n",
      "Confusion Matrix :\n",
      " [[7 0 0 ... 1 0 0]\n",
      " [0 0 0 ... 0 0 0]\n",
      " [0 0 0 ... 0 0 0]\n",
      " ...\n",
      " [0 0 0 ... 0 0 0]\n",
      " [0 0 0 ... 0 0 0]\n",
      " [0 0 0 ... 0 0 0]]\n"
     ]
    }
   ],
   "source": [
    "y_pred = model1.predict(X_test)\n",
    "matrix=confusion_matrix(Y_test, y_pred)\n",
    "print('Confusion Matrix :\\n', matrix)\n"
   ]
  },
  {
   "cell_type": "markdown",
   "id": "f8d749f5",
   "metadata": {},
   "source": [
    "# Logistic Regression"
   ]
  },
  {
   "cell_type": "code",
   "execution_count": 86,
   "id": "c649a9bc",
   "metadata": {},
   "outputs": [],
   "source": [
    "# logistic regression\n",
    "from sklearn.linear_model import LogisticRegression\n",
    "model2=LogisticRegression()"
   ]
  },
  {
   "cell_type": "code",
   "execution_count": 87,
   "id": "f8efb393",
   "metadata": {},
   "outputs": [
    {
     "data": {
      "text/html": [
       "<style>#sk-container-id-5 {color: black;background-color: white;}#sk-container-id-5 pre{padding: 0;}#sk-container-id-5 div.sk-toggleable {background-color: white;}#sk-container-id-5 label.sk-toggleable__label {cursor: pointer;display: block;width: 100%;margin-bottom: 0;padding: 0.3em;box-sizing: border-box;text-align: center;}#sk-container-id-5 label.sk-toggleable__label-arrow:before {content: \"▸\";float: left;margin-right: 0.25em;color: #696969;}#sk-container-id-5 label.sk-toggleable__label-arrow:hover:before {color: black;}#sk-container-id-5 div.sk-estimator:hover label.sk-toggleable__label-arrow:before {color: black;}#sk-container-id-5 div.sk-toggleable__content {max-height: 0;max-width: 0;overflow: hidden;text-align: left;background-color: #f0f8ff;}#sk-container-id-5 div.sk-toggleable__content pre {margin: 0.2em;color: black;border-radius: 0.25em;background-color: #f0f8ff;}#sk-container-id-5 input.sk-toggleable__control:checked~div.sk-toggleable__content {max-height: 200px;max-width: 100%;overflow: auto;}#sk-container-id-5 input.sk-toggleable__control:checked~label.sk-toggleable__label-arrow:before {content: \"▾\";}#sk-container-id-5 div.sk-estimator input.sk-toggleable__control:checked~label.sk-toggleable__label {background-color: #d4ebff;}#sk-container-id-5 div.sk-label input.sk-toggleable__control:checked~label.sk-toggleable__label {background-color: #d4ebff;}#sk-container-id-5 input.sk-hidden--visually {border: 0;clip: rect(1px 1px 1px 1px);clip: rect(1px, 1px, 1px, 1px);height: 1px;margin: -1px;overflow: hidden;padding: 0;position: absolute;width: 1px;}#sk-container-id-5 div.sk-estimator {font-family: monospace;background-color: #f0f8ff;border: 1px dotted black;border-radius: 0.25em;box-sizing: border-box;margin-bottom: 0.5em;}#sk-container-id-5 div.sk-estimator:hover {background-color: #d4ebff;}#sk-container-id-5 div.sk-parallel-item::after {content: \"\";width: 100%;border-bottom: 1px solid gray;flex-grow: 1;}#sk-container-id-5 div.sk-label:hover label.sk-toggleable__label {background-color: #d4ebff;}#sk-container-id-5 div.sk-serial::before {content: \"\";position: absolute;border-left: 1px solid gray;box-sizing: border-box;top: 0;bottom: 0;left: 50%;z-index: 0;}#sk-container-id-5 div.sk-serial {display: flex;flex-direction: column;align-items: center;background-color: white;padding-right: 0.2em;padding-left: 0.2em;position: relative;}#sk-container-id-5 div.sk-item {position: relative;z-index: 1;}#sk-container-id-5 div.sk-parallel {display: flex;align-items: stretch;justify-content: center;background-color: white;position: relative;}#sk-container-id-5 div.sk-item::before, #sk-container-id-5 div.sk-parallel-item::before {content: \"\";position: absolute;border-left: 1px solid gray;box-sizing: border-box;top: 0;bottom: 0;left: 50%;z-index: -1;}#sk-container-id-5 div.sk-parallel-item {display: flex;flex-direction: column;z-index: 1;position: relative;background-color: white;}#sk-container-id-5 div.sk-parallel-item:first-child::after {align-self: flex-end;width: 50%;}#sk-container-id-5 div.sk-parallel-item:last-child::after {align-self: flex-start;width: 50%;}#sk-container-id-5 div.sk-parallel-item:only-child::after {width: 0;}#sk-container-id-5 div.sk-dashed-wrapped {border: 1px dashed gray;margin: 0 0.4em 0.5em 0.4em;box-sizing: border-box;padding-bottom: 0.4em;background-color: white;}#sk-container-id-5 div.sk-label label {font-family: monospace;font-weight: bold;display: inline-block;line-height: 1.2em;}#sk-container-id-5 div.sk-label-container {text-align: center;}#sk-container-id-5 div.sk-container {/* jupyter's `normalize.less` sets `[hidden] { display: none; }` but bootstrap.min.css set `[hidden] { display: none !important; }` so we also need the `!important` here to be able to override the default hidden behavior on the sphinx rendered scikit-learn.org. See: https://github.com/scikit-learn/scikit-learn/issues/21755 */display: inline-block !important;position: relative;}#sk-container-id-5 div.sk-text-repr-fallback {display: none;}</style><div id=\"sk-container-id-5\" class=\"sk-top-container\"><div class=\"sk-text-repr-fallback\"><pre>LogisticRegression()</pre><b>In a Jupyter environment, please rerun this cell to show the HTML representation or trust the notebook. <br />On GitHub, the HTML representation is unable to render, please try loading this page with nbviewer.org.</b></div><div class=\"sk-container\" hidden><div class=\"sk-item\"><div class=\"sk-estimator sk-toggleable\"><input class=\"sk-toggleable__control sk-hidden--visually\" id=\"sk-estimator-id-5\" type=\"checkbox\" checked><label for=\"sk-estimator-id-5\" class=\"sk-toggleable__label sk-toggleable__label-arrow\">LogisticRegression</label><div class=\"sk-toggleable__content\"><pre>LogisticRegression()</pre></div></div></div></div></div>"
      ],
      "text/plain": [
       "LogisticRegression()"
      ]
     },
     "execution_count": 87,
     "metadata": {},
     "output_type": "execute_result"
    },
    {
     "data": {
      "text/html": [
       "<style>#sk-container-id-5 {color: black;background-color: white;}#sk-container-id-5 pre{padding: 0;}#sk-container-id-5 div.sk-toggleable {background-color: white;}#sk-container-id-5 label.sk-toggleable__label {cursor: pointer;display: block;width: 100%;margin-bottom: 0;padding: 0.3em;box-sizing: border-box;text-align: center;}#sk-container-id-5 label.sk-toggleable__label-arrow:before {content: \"▸\";float: left;margin-right: 0.25em;color: #696969;}#sk-container-id-5 label.sk-toggleable__label-arrow:hover:before {color: black;}#sk-container-id-5 div.sk-estimator:hover label.sk-toggleable__label-arrow:before {color: black;}#sk-container-id-5 div.sk-toggleable__content {max-height: 0;max-width: 0;overflow: hidden;text-align: left;background-color: #f0f8ff;}#sk-container-id-5 div.sk-toggleable__content pre {margin: 0.2em;color: black;border-radius: 0.25em;background-color: #f0f8ff;}#sk-container-id-5 input.sk-toggleable__control:checked~div.sk-toggleable__content {max-height: 200px;max-width: 100%;overflow: auto;}#sk-container-id-5 input.sk-toggleable__control:checked~label.sk-toggleable__label-arrow:before {content: \"▾\";}#sk-container-id-5 div.sk-estimator input.sk-toggleable__control:checked~label.sk-toggleable__label {background-color: #d4ebff;}#sk-container-id-5 div.sk-label input.sk-toggleable__control:checked~label.sk-toggleable__label {background-color: #d4ebff;}#sk-container-id-5 input.sk-hidden--visually {border: 0;clip: rect(1px 1px 1px 1px);clip: rect(1px, 1px, 1px, 1px);height: 1px;margin: -1px;overflow: hidden;padding: 0;position: absolute;width: 1px;}#sk-container-id-5 div.sk-estimator {font-family: monospace;background-color: #f0f8ff;border: 1px dotted black;border-radius: 0.25em;box-sizing: border-box;margin-bottom: 0.5em;}#sk-container-id-5 div.sk-estimator:hover {background-color: #d4ebff;}#sk-container-id-5 div.sk-parallel-item::after {content: \"\";width: 100%;border-bottom: 1px solid gray;flex-grow: 1;}#sk-container-id-5 div.sk-label:hover label.sk-toggleable__label {background-color: #d4ebff;}#sk-container-id-5 div.sk-serial::before {content: \"\";position: absolute;border-left: 1px solid gray;box-sizing: border-box;top: 0;bottom: 0;left: 50%;z-index: 0;}#sk-container-id-5 div.sk-serial {display: flex;flex-direction: column;align-items: center;background-color: white;padding-right: 0.2em;padding-left: 0.2em;position: relative;}#sk-container-id-5 div.sk-item {position: relative;z-index: 1;}#sk-container-id-5 div.sk-parallel {display: flex;align-items: stretch;justify-content: center;background-color: white;position: relative;}#sk-container-id-5 div.sk-item::before, #sk-container-id-5 div.sk-parallel-item::before {content: \"\";position: absolute;border-left: 1px solid gray;box-sizing: border-box;top: 0;bottom: 0;left: 50%;z-index: -1;}#sk-container-id-5 div.sk-parallel-item {display: flex;flex-direction: column;z-index: 1;position: relative;background-color: white;}#sk-container-id-5 div.sk-parallel-item:first-child::after {align-self: flex-end;width: 50%;}#sk-container-id-5 div.sk-parallel-item:last-child::after {align-self: flex-start;width: 50%;}#sk-container-id-5 div.sk-parallel-item:only-child::after {width: 0;}#sk-container-id-5 div.sk-dashed-wrapped {border: 1px dashed gray;margin: 0 0.4em 0.5em 0.4em;box-sizing: border-box;padding-bottom: 0.4em;background-color: white;}#sk-container-id-5 div.sk-label label {font-family: monospace;font-weight: bold;display: inline-block;line-height: 1.2em;}#sk-container-id-5 div.sk-label-container {text-align: center;}#sk-container-id-5 div.sk-container {/* jupyter's `normalize.less` sets `[hidden] { display: none; }` but bootstrap.min.css set `[hidden] { display: none !important; }` so we also need the `!important` here to be able to override the default hidden behavior on the sphinx rendered scikit-learn.org. See: https://github.com/scikit-learn/scikit-learn/issues/21755 */display: inline-block !important;position: relative;}#sk-container-id-5 div.sk-text-repr-fallback {display: none;}</style><div id=\"sk-container-id-5\" class=\"sk-top-container\"><div class=\"sk-text-repr-fallback\"><pre>LogisticRegression()</pre><b>In a Jupyter environment, please rerun this cell to show the HTML representation or trust the notebook. <br />On GitHub, the HTML representation is unable to render, please try loading this page with nbviewer.org.</b></div><div class=\"sk-container\" hidden><div class=\"sk-item\"><div class=\"sk-estimator sk-toggleable\"><input class=\"sk-toggleable__control sk-hidden--visually\" id=\"sk-estimator-id-5\" type=\"checkbox\" checked><label for=\"sk-estimator-id-5\" class=\"sk-toggleable__label sk-toggleable__label-arrow\">LogisticRegression</label><div class=\"sk-toggleable__content\"><pre>LogisticRegression()</pre></div></div></div></div></div>"
      ],
      "text/plain": [
       "LogisticRegression()"
      ]
     },
     "execution_count": 87,
     "metadata": {},
     "output_type": "execute_result"
    }
   ],
   "source": [
    "model2.fit(X_train,Y_train)"
   ]
  },
  {
   "cell_type": "code",
   "execution_count": 88,
   "id": "045ece75",
   "metadata": {},
   "outputs": [],
   "source": [
    "X_train_prediction=model2.predict(X_train)\n",
    "training_data_accuracy=accuracy_score(X_train_prediction, Y_train)"
   ]
  },
  {
   "cell_type": "code",
   "execution_count": 89,
   "id": "da19acbf",
   "metadata": {},
   "outputs": [],
   "source": [
    "X_test_prediction=model2.predict(X_test)\n",
    "test_data_accuracy=accuracy_score(X_test_prediction, Y_test)"
   ]
  },
  {
   "cell_type": "code",
   "execution_count": 90,
   "id": "c3e0ed95",
   "metadata": {},
   "outputs": [
    {
     "name": "stdout",
     "output_type": "stream",
     "text": [
      "Accuracy of training data : 89.343 %\n",
      "Accuracy of testing data : 85.312 %\n",
      "Accuracy of training data : 89.343 %\n",
      "Accuracy of testing data : 85.312 %\n"
     ]
    }
   ],
   "source": [
    "a=(training_data_accuracy*100)\n",
    "b=(test_data_accuracy*100)\n",
    "a=str(round(a,3))\n",
    "b=str(round(b,3))\n",
    "print('Accuracy of training data :',a,'%')\n",
    "print('Accuracy of testing data :',b, '%')"
   ]
  },
  {
   "cell_type": "code",
   "execution_count": 91,
   "id": "c50eb98e",
   "metadata": {},
   "outputs": [
    {
     "name": "stdout",
     "output_type": "stream",
     "text": [
      "[420]\n",
      "The news is Fake\n",
      "[420]\n",
      "The news is Fake\n"
     ]
    }
   ],
   "source": [
    "#Pedicting the values\n",
    "X_new = X_test[456]\n",
    "\n",
    "prediction = model2.predict(X_new)\n",
    "print(prediction)\n",
    "\n",
    "if (prediction[0]==0):\n",
    "  print('The news is Real')\n",
    "else:\n",
    "  print('The news is Fake')"
   ]
  },
  {
   "cell_type": "code",
   "execution_count": 92,
   "id": "266d0a2a",
   "metadata": {},
   "outputs": [
    {
     "name": "stdout",
     "output_type": "stream",
     "text": [
      "420\n",
      "420\n"
     ]
    }
   ],
   "source": [
    "print(Y_test[456])"
   ]
  },
  {
   "cell_type": "code",
   "execution_count": null,
   "id": "c65b31f6",
   "metadata": {},
   "outputs": [],
   "source": []
  },
  {
   "cell_type": "markdown",
   "id": "e8c1a470",
   "metadata": {},
   "source": [
    "# Random Forest Agressor"
   ]
  },
  {
   "cell_type": "code",
   "execution_count": 93,
   "id": "83aad021",
   "metadata": {},
   "outputs": [],
   "source": [
    "from sklearn.ensemble import RandomForestRegressor"
   ]
  },
  {
   "cell_type": "code",
   "execution_count": null,
   "id": "4fc47a5b",
   "metadata": {},
   "outputs": [],
   "source": [
    "model3=RandomForestRegressor()\n",
    "model3.fit(X_train, Y_train)"
   ]
  },
  {
   "cell_type": "code",
   "execution_count": null,
   "id": "a01c275c",
   "metadata": {},
   "outputs": [],
   "source": []
  }
 ],
 "metadata": {
  "kernelspec": {
   "display_name": "Python 3 (ipykernel)",
   "language": "python",
   "name": "python3"
  },
  "language_info": {
   "codemirror_mode": {
    "name": "ipython",
    "version": 3
   },
   "file_extension": ".py",
   "mimetype": "text/x-python",
   "name": "python",
   "nbconvert_exporter": "python",
   "pygments_lexer": "ipython3",
   "version": "3.10.0"
  }
 },
 "nbformat": 4,
 "nbformat_minor": 5
}
