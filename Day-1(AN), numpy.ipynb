{
 "cells": [
  {
   "cell_type": "code",
   "execution_count": 1,
   "id": "6ec08c22",
   "metadata": {},
   "outputs": [
    {
     "name": "stdout",
     "output_type": "stream",
     "text": [
      "[[[1 2 3]\n",
      "  [4 5 6]]\n",
      "\n",
      " [[7 8 9]\n",
      "  [1 2 3]]]\n"
     ]
    }
   ],
   "source": [
    "#creating 3-D array with 2-D arrays\n",
    "import numpy as np\n",
    "arr=np.array([[[1,2,3],[4,5,6]],\n",
    "               [[7,8,9],[1,2,3]]])\n",
    "print(arr)"
   ]
  },
  {
   "cell_type": "code",
   "execution_count": 2,
   "id": "403105a9",
   "metadata": {},
   "outputs": [
    {
     "name": "stdout",
     "output_type": "stream",
     "text": [
      "<class 'numpy.ndarray'>\n"
     ]
    }
   ],
   "source": [
    "import numpy as np\n",
    "arr=np.array([2])\n",
    "print(type(arr))"
   ]
  },
  {
   "cell_type": "code",
   "execution_count": 3,
   "id": "c3be56cc",
   "metadata": {},
   "outputs": [
    {
     "name": "stdout",
     "output_type": "stream",
     "text": [
      "0\n",
      "2\n",
      "3\n",
      "1\n"
     ]
    }
   ],
   "source": [
    "import numpy as np\n",
    "a=np.array(42)\n",
    "b=np.array([[2,4],[3,5]])\n",
    "c=np.array([[[2,4],[3,5],[3,6]]])\n",
    "d=np.array([2,4])\n",
    "print(a.ndim)\n",
    "print(b.ndim)\n",
    "print(c.ndim)\n",
    "print(d.ndim)"
   ]
  },
  {
   "cell_type": "code",
   "execution_count": 4,
   "id": "a6976327",
   "metadata": {},
   "outputs": [
    {
     "name": "stdout",
     "output_type": "stream",
     "text": [
      "[[[[[[1 2 3 4]]]]]]\n",
      "Number of Dimensions : 6\n"
     ]
    }
   ],
   "source": [
    "import numpy as np\n",
    "arr=np.array([1,2,3,4], ndmin=6)\n",
    "print(arr)\n",
    "print('Number of Dimensions :', arr.ndim)\n"
   ]
  },
  {
   "cell_type": "code",
   "execution_count": 5,
   "id": "5304a3e4",
   "metadata": {},
   "outputs": [
    {
     "name": "stdout",
     "output_type": "stream",
     "text": [
      "Sum of arrays:\n",
      "4\n",
      "2\n",
      "3\n",
      "3\n",
      "3.0\n",
      "0\n"
     ]
    }
   ],
   "source": [
    "import numpy as np\n",
    "arr=np.array([1,2,3,4])\n",
    "print('Sum of arrays:')\n",
    "print(arr[2]+arr[0])\n",
    "print(arr[2]-arr[0])\n",
    "print(arr[2]*arr[0])\n",
    "print(arr[2]//arr[0])\n",
    "print(arr[2]/arr[0])\n",
    "print(arr[2]%arr[0])\n"
   ]
  },
  {
   "cell_type": "code",
   "execution_count": 6,
   "id": "df0665ff",
   "metadata": {},
   "outputs": [
    {
     "name": "stdout",
     "output_type": "stream",
     "text": [
      "[[ 1  2  3  4  5]\n",
      " [ 6  7  8  9 10]]\n",
      "2nd element on 1st row:  2\n"
     ]
    }
   ],
   "source": [
    "import numpy as np\n",
    "arr=np.array([[1,2,3,4,5],[6,7,8,9,10]])\n",
    "print(arr)\n",
    "print('2nd element on 1st row: ', arr[0,1])"
   ]
  },
  {
   "cell_type": "code",
   "execution_count": 7,
   "id": "09b95a94",
   "metadata": {},
   "outputs": [
    {
     "name": "stdout",
     "output_type": "stream",
     "text": [
      "[[ 1  2  3  4  5]\n",
      " [ 6  7  8  9 10]]\n",
      "Last element from 2nd dim 10\n"
     ]
    }
   ],
   "source": [
    "import numpy as np\n",
    "arr_1=np.array([[1,2,3,4,5],[6,7,8,9,10]])\n",
    "print(arr_1)\n",
    "print('Last element from 2nd dim',arr[1,4])\n",
    "\n"
   ]
  },
  {
   "cell_type": "code",
   "execution_count": 8,
   "id": "bde92870",
   "metadata": {},
   "outputs": [
    {
     "name": "stdout",
     "output_type": "stream",
     "text": [
      "[[ 1  2  3  4  5]\n",
      " [ 6  7  8  9 10]]\n",
      "Last element from 2nd dim 10\n"
     ]
    }
   ],
   "source": [
    "import numpy as np\n",
    "arr_1=np.array([[1,2,3,4,5],[6,7,8,9,10]])\n",
    "print(arr_1)\n",
    "print('Last element from 2nd dim',arr[1,-1])"
   ]
  },
  {
   "cell_type": "code",
   "execution_count": 9,
   "id": "439190a2",
   "metadata": {},
   "outputs": [
    {
     "name": "stdout",
     "output_type": "stream",
     "text": [
      "[1 2 3]\n"
     ]
    }
   ],
   "source": [
    "import numpy as np\n",
    "arr=np.array([1,2,3,4,5,6,7])\n",
    "print(arr[:3])"
   ]
  },
  {
   "cell_type": "code",
   "execution_count": 10,
   "id": "d8a26e89",
   "metadata": {},
   "outputs": [
    {
     "name": "stdout",
     "output_type": "stream",
     "text": [
      "[5 6]\n"
     ]
    }
   ],
   "source": [
    "import numpy as np\n",
    "arr=np.array([1,2,3,4,5,6,7])\n",
    "print(arr[-3:-1])"
   ]
  },
  {
   "cell_type": "code",
   "execution_count": 11,
   "id": "1e67ad0c",
   "metadata": {},
   "outputs": [
    {
     "name": "stdout",
     "output_type": "stream",
     "text": [
      "[5 6]\n"
     ]
    }
   ],
   "source": [
    "#slice from the index 3 from end to index 1\n",
    "import numpy as np\n",
    "arr=np.array([1,2,3,4,5,6,7])\n",
    "print(arr[-3:-1])"
   ]
  },
  {
   "cell_type": "code",
   "execution_count": 12,
   "id": "5c6d1e3c",
   "metadata": {},
   "outputs": [
    {
     "name": "stdout",
     "output_type": "stream",
     "text": [
      "[2 5]\n"
     ]
    }
   ],
   "source": [
    "# Return every other elemnt from index 1 to index 5\n",
    "import numpy as np\n",
    "arr=np.array([1,2,3,4,5,6,7])\n",
    "print(arr[1:5:3])"
   ]
  },
  {
   "cell_type": "code",
   "execution_count": 13,
   "id": "546c76ab",
   "metadata": {},
   "outputs": [
    {
     "name": "stdout",
     "output_type": "stream",
     "text": [
      "[7 8 9]\n"
     ]
    }
   ],
   "source": [
    "#from the second elemennt, slice elemnts from index 1 to index 4\n",
    "\n",
    "import numpy as np \n",
    "arr=np.array([[1,2,3,4,5],[6,7,8,9,10]])\n",
    "print(arr[1, 1:4])"
   ]
  },
  {
   "cell_type": "code",
   "execution_count": 14,
   "id": "e8354c11",
   "metadata": {},
   "outputs": [
    {
     "name": "stdout",
     "output_type": "stream",
     "text": [
      "int32\n",
      "<class 'numpy.ndarray'>\n"
     ]
    }
   ],
   "source": [
    "# get the data type of an array object\n",
    "\n",
    "import numpy as np\n",
    "arr=np.array([1,2,3,4,5])\n",
    "print(arr.dtype)\n",
    "print(type(arr))"
   ]
  },
  {
   "cell_type": "code",
   "execution_count": 15,
   "id": "d7c913a3",
   "metadata": {},
   "outputs": [
    {
     "name": "stdout",
     "output_type": "stream",
     "text": [
      "<class 'list'>\n"
     ]
    }
   ],
   "source": [
    "list=[1,2,3,4,5]\n",
    "print(type(list))"
   ]
  },
  {
   "cell_type": "code",
   "execution_count": 16,
   "id": "7838f76a",
   "metadata": {},
   "outputs": [
    {
     "name": "stdout",
     "output_type": "stream",
     "text": [
      "<U9\n"
     ]
    }
   ],
   "source": [
    "#Get the ata type of an array containing strings\n",
    "\n",
    "import numpy as np\n",
    "arr=np.array(['apple','banana','cucumberr'])\n",
    "print(arr.dtype)\n",
    "#printing the highest lettered word"
   ]
  },
  {
   "cell_type": "code",
   "execution_count": 17,
   "id": "977b1cff",
   "metadata": {},
   "outputs": [
    {
     "name": "stdout",
     "output_type": "stream",
     "text": [
      "[b'1' b'2' b'3' b'4']\n",
      "|S1\n"
     ]
    }
   ],
   "source": [
    "#creating an array with data type string\n",
    "\n",
    "import numpy as np\n",
    "arr=np.array([1,2,3,4], dtype='S')\n",
    "print(arr)\n",
    "print(arr.dtype)"
   ]
  },
  {
   "cell_type": "code",
   "execution_count": 18,
   "id": "72dec248",
   "metadata": {},
   "outputs": [
    {
     "name": "stdout",
     "output_type": "stream",
     "text": [
      "[1 2 3]\n",
      "int32\n"
     ]
    }
   ],
   "source": [
    "# changing data type from float to integer by using 'i'\n",
    "import numpy as np\n",
    "arr=np.array([1.2,2.2,3.3])\n",
    "newarr=arr.astype('i')\n",
    "print(newarr)\n",
    "print(newarr.dtype)"
   ]
  },
  {
   "cell_type": "code",
   "execution_count": 19,
   "id": "b14ec4eb",
   "metadata": {},
   "outputs": [
    {
     "name": "stdout",
     "output_type": "stream",
     "text": [
      "[ True False  True False  True  True False  True]\n",
      "bool\n"
     ]
    }
   ],
   "source": [
    "import numpy as np\n",
    "arr=np.array([1,0,3,0,-1,4,0,-1])\n",
    "newarr=arr.astype(bool)\n",
    "print(newarr)\n",
    "print(newarr.dtype)"
   ]
  },
  {
   "cell_type": "code",
   "execution_count": 20,
   "id": "42c760ca",
   "metadata": {},
   "outputs": [
    {
     "name": "stdout",
     "output_type": "stream",
     "text": [
      "(2, 4)\n"
     ]
    }
   ],
   "source": [
    "# print the shape of 2-D array\n",
    "import numpy as np\n",
    "arr=np.array([[1,2,3,4],[5,6,7,8]])\n",
    "print(arr.shape)\n",
    "#rows and columns present in the 2-D array"
   ]
  },
  {
   "cell_type": "code",
   "execution_count": 21,
   "id": "5311719e",
   "metadata": {},
   "outputs": [
    {
     "name": "stdout",
     "output_type": "stream",
     "text": [
      "[[[ 1  2]\n",
      "  [ 3  4]\n",
      "  [ 5  6]]\n",
      "\n",
      " [[ 7  8]\n",
      "  [ 9 10]\n",
      "  [11 12]]]\n"
     ]
    }
   ],
   "source": [
    "# convert the 1-D array with 12 elements to 3-D array\n",
    "# The outermost dimensions has 2 arrays that contains 3 arrays in it\n",
    "\n",
    "import numpy as np\n",
    "arr=np.array([1,2,3,4,5,6,7,8,9,10,11,12])\n",
    "newarr=arr.reshape(2,3,2)\n",
    "print(newarr)"
   ]
  },
  {
   "cell_type": "code",
   "execution_count": 22,
   "id": "5b1ec2a2",
   "metadata": {},
   "outputs": [
    {
     "name": "stdout",
     "output_type": "stream",
     "text": [
      "[[[ 1  2]\n",
      "  [ 3  4]]\n",
      "\n",
      " [[ 5  6]\n",
      "  [ 7  8]]\n",
      "\n",
      " [[ 9 10]\n",
      "  [11 12]]]\n"
     ]
    }
   ],
   "source": [
    "# convert the 1-D array with 12 elements to 3-D array\n",
    "# The outermost dimensions has 2 arrays that contains 3 arrays in it\n",
    "\n",
    "import numpy as np\n",
    "arr=np.array([1,2,3,4,5,6,7,8,9,10,11,12])\n",
    "newarr=arr.reshape(3,2,2)\n",
    "print(newarr)"
   ]
  },
  {
   "cell_type": "code",
   "execution_count": 23,
   "id": "f8790035",
   "metadata": {},
   "outputs": [
    {
     "name": "stdout",
     "output_type": "stream",
     "text": [
      "1\n",
      "2\n",
      "3\n"
     ]
    }
   ],
   "source": [
    "#iterate on the elements of the following 1-D array\n",
    "\n",
    "import numpy as np\n",
    "arr=np.array([1,2,3])\n",
    "for x in arr:\n",
    "    print(x)"
   ]
  },
  {
   "cell_type": "code",
   "execution_count": 24,
   "id": "5c8560fa",
   "metadata": {},
   "outputs": [
    {
     "name": "stdout",
     "output_type": "stream",
     "text": [
      "[1 2 3 4 5 6]\n"
     ]
    }
   ],
   "source": [
    "# join 2 arrays\n",
    "import numpy as np\n",
    "arr1=np.array([1,2,3])\n",
    "arr2=np.array([4,5,6])\n",
    "arr=np.concatenate((arr1,arr2))\n",
    "print(arr)"
   ]
  },
  {
   "cell_type": "code",
   "execution_count": 25,
   "id": "c0795d30",
   "metadata": {},
   "outputs": [
    {
     "name": "stdout",
     "output_type": "stream",
     "text": [
      "[array([1, 2, 3, 4, 5, 6]), array([ 7,  8,  9, 10, 11])]\n"
     ]
    }
   ],
   "source": [
    "# split the array in 3 parts\n",
    "import numpy as np\n",
    "arr=np.array([1,2,3,4,5,6,7,8,9,10,11])\n",
    "newarr=np.array_split(arr,2)\n",
    "print(newarr)"
   ]
  },
  {
   "cell_type": "code",
   "execution_count": 26,
   "id": "3e511e6b",
   "metadata": {},
   "outputs": [
    {
     "name": "stdout",
     "output_type": "stream",
     "text": [
      "(array([3, 5, 6], dtype=int64),)\n"
     ]
    }
   ],
   "source": [
    "# find the indexes where the value is 4\n",
    "\n",
    "import numpy as np\n",
    "arr=np.array([1,2,3,4,5,4,4])\n",
    "x=np.where(arr==4)\n",
    "print(x)"
   ]
  },
  {
   "cell_type": "code",
   "execution_count": 27,
   "id": "158b5d2d",
   "metadata": {},
   "outputs": [
    {
     "name": "stdout",
     "output_type": "stream",
     "text": [
      "[0 1 2 3]\n"
     ]
    }
   ],
   "source": [
    "#sort the array\n",
    "import numpy as np\n",
    "arr=np.array([3,2,0,1])\n",
    "print(np.sort(arr))"
   ]
  },
  {
   "cell_type": "code",
   "execution_count": 28,
   "id": "75af9fd7",
   "metadata": {},
   "outputs": [
    {
     "name": "stdout",
     "output_type": "stream",
     "text": [
      "[3 2 1 0]\n"
     ]
    }
   ],
   "source": [
    "#sort the array in decsending order\n",
    "import numpy as np\n",
    "arr=np.array([3,2,0,1])\n",
    "newarr=np.sort(arr)[::-1]\n",
    "print(newarr)"
   ]
  },
  {
   "cell_type": "code",
   "execution_count": 29,
   "id": "3124edeb",
   "metadata": {},
   "outputs": [
    {
     "name": "stdout",
     "output_type": "stream",
     "text": [
      "Hello World\n"
     ]
    }
   ],
   "source": [
    "print('Hello World')"
   ]
  },
  {
   "cell_type": "code",
   "execution_count": 30,
   "id": "5f84b4b9",
   "metadata": {},
   "outputs": [
    {
     "name": "stdout",
     "output_type": "stream",
     "text": [
      "42\n"
     ]
    }
   ],
   "source": [
    "print(42)"
   ]
  },
  {
   "cell_type": "code",
   "execution_count": null,
   "id": "a5499d8a",
   "metadata": {},
   "outputs": [],
   "source": []
  }
 ],
 "metadata": {
  "kernelspec": {
   "display_name": "Python 3 (ipykernel)",
   "language": "python",
   "name": "python3"
  },
  "language_info": {
   "codemirror_mode": {
    "name": "ipython",
    "version": 3
   },
   "file_extension": ".py",
   "mimetype": "text/x-python",
   "name": "python",
   "nbconvert_exporter": "python",
   "pygments_lexer": "ipython3",
   "version": "3.10.0"
  }
 },
 "nbformat": 4,
 "nbformat_minor": 5
}
